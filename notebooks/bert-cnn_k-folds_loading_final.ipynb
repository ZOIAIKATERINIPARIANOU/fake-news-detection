{
 "cells": [
  {
   "cell_type": "code",
   "execution_count": null,
   "metadata": {
    "colab": {
     "base_uri": "https://localhost:8080/",
     "height": 219
    },
    "executionInfo": {
     "elapsed": 244025,
     "status": "ok",
     "timestamp": 1758440724196,
     "user": {
      "displayName": "Artemis Papaspyrou",
      "userId": "18188189575963929921"
     },
     "user_tz": -180
    },
    "id": "qNtVZtyHs1GT",
    "outputId": "809dbc36-cf6c-4358-8b85-78d0d160f715"
   },
   "outputs": [
    {
     "name": "stdout",
     "output_type": "stream",
     "text": [
      " All libraries are installed and imported successfully.\n",
      "\n",
      "--- Section 1: Loading and Preparing the Dataset ---\n"
     ]
    },
    {
     "data": {
      "text/html": [
       "\n",
       "     <input type=\"file\" id=\"files-23195d57-a69a-4e11-9613-fd045e4d140d\" name=\"files[]\" multiple disabled\n",
       "        style=\"border:none\" />\n",
       "     <output id=\"result-23195d57-a69a-4e11-9613-fd045e4d140d\">\n",
       "      Upload widget is only available when the cell has been executed in the\n",
       "      current browser session. Please rerun this cell to enable.\n",
       "      </output>\n",
       "      <script>// Copyright 2017 Google LLC\n",
       "//\n",
       "// Licensed under the Apache License, Version 2.0 (the \"License\");\n",
       "// you may not use this file except in compliance with the License.\n",
       "// You may obtain a copy of the License at\n",
       "//\n",
       "//      http://www.apache.org/licenses/LICENSE-2.0\n",
       "//\n",
       "// Unless required by applicable law or agreed to in writing, software\n",
       "// distributed under the License is distributed on an \"AS IS\" BASIS,\n",
       "// WITHOUT WARRANTIES OR CONDITIONS OF ANY KIND, either express or implied.\n",
       "// See the License for the specific language governing permissions and\n",
       "// limitations under the License.\n",
       "\n",
       "/**\n",
       " * @fileoverview Helpers for google.colab Python module.\n",
       " */\n",
       "(function(scope) {\n",
       "function span(text, styleAttributes = {}) {\n",
       "  const element = document.createElement('span');\n",
       "  element.textContent = text;\n",
       "  for (const key of Object.keys(styleAttributes)) {\n",
       "    element.style[key] = styleAttributes[key];\n",
       "  }\n",
       "  return element;\n",
       "}\n",
       "\n",
       "// Max number of bytes which will be uploaded at a time.\n",
       "const MAX_PAYLOAD_SIZE = 100 * 1024;\n",
       "\n",
       "function _uploadFiles(inputId, outputId) {\n",
       "  const steps = uploadFilesStep(inputId, outputId);\n",
       "  const outputElement = document.getElementById(outputId);\n",
       "  // Cache steps on the outputElement to make it available for the next call\n",
       "  // to uploadFilesContinue from Python.\n",
       "  outputElement.steps = steps;\n",
       "\n",
       "  return _uploadFilesContinue(outputId);\n",
       "}\n",
       "\n",
       "// This is roughly an async generator (not supported in the browser yet),\n",
       "// where there are multiple asynchronous steps and the Python side is going\n",
       "// to poll for completion of each step.\n",
       "// This uses a Promise to block the python side on completion of each step,\n",
       "// then passes the result of the previous step as the input to the next step.\n",
       "function _uploadFilesContinue(outputId) {\n",
       "  const outputElement = document.getElementById(outputId);\n",
       "  const steps = outputElement.steps;\n",
       "\n",
       "  const next = steps.next(outputElement.lastPromiseValue);\n",
       "  return Promise.resolve(next.value.promise).then((value) => {\n",
       "    // Cache the last promise value to make it available to the next\n",
       "    // step of the generator.\n",
       "    outputElement.lastPromiseValue = value;\n",
       "    return next.value.response;\n",
       "  });\n",
       "}\n",
       "\n",
       "/**\n",
       " * Generator function which is called between each async step of the upload\n",
       " * process.\n",
       " * @param {string} inputId Element ID of the input file picker element.\n",
       " * @param {string} outputId Element ID of the output display.\n",
       " * @return {!Iterable<!Object>} Iterable of next steps.\n",
       " */\n",
       "function* uploadFilesStep(inputId, outputId) {\n",
       "  const inputElement = document.getElementById(inputId);\n",
       "  inputElement.disabled = false;\n",
       "\n",
       "  const outputElement = document.getElementById(outputId);\n",
       "  outputElement.innerHTML = '';\n",
       "\n",
       "  const pickedPromise = new Promise((resolve) => {\n",
       "    inputElement.addEventListener('change', (e) => {\n",
       "      resolve(e.target.files);\n",
       "    });\n",
       "  });\n",
       "\n",
       "  const cancel = document.createElement('button');\n",
       "  inputElement.parentElement.appendChild(cancel);\n",
       "  cancel.textContent = 'Cancel upload';\n",
       "  const cancelPromise = new Promise((resolve) => {\n",
       "    cancel.onclick = () => {\n",
       "      resolve(null);\n",
       "    };\n",
       "  });\n",
       "\n",
       "  // Wait for the user to pick the files.\n",
       "  const files = yield {\n",
       "    promise: Promise.race([pickedPromise, cancelPromise]),\n",
       "    response: {\n",
       "      action: 'starting',\n",
       "    }\n",
       "  };\n",
       "\n",
       "  cancel.remove();\n",
       "\n",
       "  // Disable the input element since further picks are not allowed.\n",
       "  inputElement.disabled = true;\n",
       "\n",
       "  if (!files) {\n",
       "    return {\n",
       "      response: {\n",
       "        action: 'complete',\n",
       "      }\n",
       "    };\n",
       "  }\n",
       "\n",
       "  for (const file of files) {\n",
       "    const li = document.createElement('li');\n",
       "    li.append(span(file.name, {fontWeight: 'bold'}));\n",
       "    li.append(span(\n",
       "        `(${file.type || 'n/a'}) - ${file.size} bytes, ` +\n",
       "        `last modified: ${\n",
       "            file.lastModifiedDate ? file.lastModifiedDate.toLocaleDateString() :\n",
       "                                    'n/a'} - `));\n",
       "    const percent = span('0% done');\n",
       "    li.appendChild(percent);\n",
       "\n",
       "    outputElement.appendChild(li);\n",
       "\n",
       "    const fileDataPromise = new Promise((resolve) => {\n",
       "      const reader = new FileReader();\n",
       "      reader.onload = (e) => {\n",
       "        resolve(e.target.result);\n",
       "      };\n",
       "      reader.readAsArrayBuffer(file);\n",
       "    });\n",
       "    // Wait for the data to be ready.\n",
       "    let fileData = yield {\n",
       "      promise: fileDataPromise,\n",
       "      response: {\n",
       "        action: 'continue',\n",
       "      }\n",
       "    };\n",
       "\n",
       "    // Use a chunked sending to avoid message size limits. See b/62115660.\n",
       "    let position = 0;\n",
       "    do {\n",
       "      const length = Math.min(fileData.byteLength - position, MAX_PAYLOAD_SIZE);\n",
       "      const chunk = new Uint8Array(fileData, position, length);\n",
       "      position += length;\n",
       "\n",
       "      const base64 = btoa(String.fromCharCode.apply(null, chunk));\n",
       "      yield {\n",
       "        response: {\n",
       "          action: 'append',\n",
       "          file: file.name,\n",
       "          data: base64,\n",
       "        },\n",
       "      };\n",
       "\n",
       "      let percentDone = fileData.byteLength === 0 ?\n",
       "          100 :\n",
       "          Math.round((position / fileData.byteLength) * 100);\n",
       "      percent.textContent = `${percentDone}% done`;\n",
       "\n",
       "    } while (position < fileData.byteLength);\n",
       "  }\n",
       "\n",
       "  // All done.\n",
       "  yield {\n",
       "    response: {\n",
       "      action: 'complete',\n",
       "    }\n",
       "  };\n",
       "}\n",
       "\n",
       "scope.google = scope.google || {};\n",
       "scope.google.colab = scope.google.colab || {};\n",
       "scope.google.colab._files = {\n",
       "  _uploadFiles,\n",
       "  _uploadFilesContinue,\n",
       "};\n",
       "})(self);\n",
       "</script> "
      ],
      "text/plain": [
       "<IPython.core.display.HTML object>"
      ]
     },
     "metadata": {},
     "output_type": "display_data"
    },
    {
     "name": "stdout",
     "output_type": "stream",
     "text": [
      "Saving archive.zip to archive.zip\n",
      "Dataset unzipped successfully into '/content/data'.\n",
      " CSV files loaded into DataFrames.\n",
      "\n",
      "--- Test Data Ready for Evaluation ---\n",
      "Test data: 4490 samples\n"
     ]
    }
   ],
   "source": [
    "# SETTING UP THE ENVIRONMENT\n",
    "# Import Libraries\n",
    "import pandas as pd\n",
    "import numpy as np\n",
    "import tensorflow as tf\n",
    "import matplotlib.pyplot as plt\n",
    "import seaborn as sns\n",
    "import os\n",
    "import re\n",
    "import zipfile\n",
    "import json\n",
    "from pathlib import Path\n",
    "\n",
    "# TensorFlow and Keras Components\n",
    "from tensorflow.keras.models import Model, load_model\n",
    "from tensorflow.keras.layers import Input, Dense, Dropout, Conv1D, GlobalMaxPooling1D, Layer\n",
    "from tensorflow.keras.optimizers import Adam\n",
    "\n",
    "# Hugging Face Transformers\n",
    "from transformers import AutoTokenizer, TFBertModel, logging as hf_logging\n",
    "\n",
    "# Scikit-learn for ML Utilities\n",
    "from sklearn.model_selection import train_test_split\n",
    "from sklearn.metrics import (\n",
    "    classification_report, confusion_matrix, roc_auc_score,\n",
    "    roc_curve, precision_recall_curve, average_precision_score\n",
    ")\n",
    "\n",
    "# Google Colab Specifics\n",
    "from google.colab import files, drive\n",
    "\n",
    "# Suppress less critical warnings from Transformers.\n",
    "hf_logging.set_verbosity_error()\n",
    "print(\" All libraries are installed and imported successfully.\")\n",
    "\n",
    "\n",
    "# DATA LOADING AND PREPARATION\n",
    "print(\"\\n 1: Loading and Preparing the Dataset\")\n",
    "try:\n",
    "    uploaded = files.upload()\n",
    "    with zipfile.ZipFile('archive.zip', 'r') as zip_ref:\n",
    "        zip_ref.extractall('/content/data')\n",
    "    print(\"Dataset unzipped successfully into '/content/data'.\")\n",
    "except Exception as e:\n",
    "    print(f\" An error occurred: {e}. Please upload 'archive.zip'.\")\n",
    "\n",
    "try:\n",
    "    fake_df = pd.read_csv('/content/data/Fake.csv')\n",
    "    true_df = pd.read_csv('/content/data/True.csv')\n",
    "    print(\" CSV files loaded into DataFrames.\")\n",
    "except FileNotFoundError:\n",
    "    print(\" Error: Could not find the CSV files.\")\n",
    "    exit()\n",
    "\n",
    "def clean_text(text):\n",
    "    text = re.sub(r'https?://\\S+|www\\.\\S+', '', text)\n",
    "    text = re.sub(r'<.*?>', '', text)\n",
    "    text = re.sub(r'[^a-zA-Z\\s]', '', text)\n",
    "    text = text.lower()\n",
    "    text = re.sub(r'\\s+', ' ', text).strip()\n",
    "    return text\n",
    "\n",
    "true_df['text'] = true_df['text'].apply(lambda x: x.split(' - ', 1)[-1])\n",
    "fake_df['label'] = 1\n",
    "true_df['label'] = 0\n",
    "df = pd.concat([fake_df, true_df]).sample(frac=1, random_state=42).reset_index(drop=True)\n",
    "df['content'] = (df['title'].astype(str) + ' ' + df['text'].astype(str)).apply(clean_text)\n",
    "df = df[['content', 'label']]\n",
    "\n",
    "X_train, X_temp, Y_train, Y_temp = train_test_split(df['content'], df['label'], test_size=0.2, random_state=42, stratify=df['label'])\n",
    "X_val, X_test, Y_val, Y_test = train_test_split(X_temp, Y_temp, test_size=0.5, random_state=42, stratify=Y_temp)\n",
    "print(\"\\n--- Test Data Ready for Evaluation ---\")\n",
    "print(f\"Test data: {len(X_test)} samples\")\n"
   ]
  },
  {
   "cell_type": "code",
   "execution_count": null,
   "metadata": {
    "colab": {
     "base_uri": "https://localhost:8080/",
     "height": 1000,
     "referenced_widgets": [
      "075b8a95ef1f4671a67137cb7da1e290",
      "f5df9898bd9943bdab39e5bdd498646b",
      "f6d87cbe212c43108e4205d7c76db3b9",
      "eaec9ad30f5f45e184c41b23166c83d7",
      "0fae853655d641abadfed8752e185bfc",
      "4cfcce43c3364611a7824264f2c0813a",
      "2e5021169fd64c62a97dea7a87a4ca0f",
      "dbe5af080ac543e18bd2bd08b29f47bb",
      "298c9d7727974e73a14d6213eca088b1",
      "2043de2c62e4454c8631561e1e125469",
      "ce20b1469fc6489ebd205b15506a2d11",
      "b3ac635e04ae4384ab19b60c49aa9b8c",
      "cb6eac094e644b90a0e0c486ce0449db",
      "cf9b92b0a42f47c7bc607b8f6d575483",
      "d0b15e80d0154b80885918684eb44e67",
      "c029043bacf74da4849015b7c28eb144",
      "754d94548c2a4b33b4949cb2460ba6da",
      "54db95f4aa9c400abccbf08dae802493",
      "101591097d9a4d2d940db315ec240237",
      "dafd299820794e35a07889db647f40a2",
      "f9fead6be37e478d8476bbb610ac9c7f",
      "79d5d70350c34f7289193890041e4896"
     ]
    },
    "executionInfo": {
     "elapsed": 45868,
     "status": "ok",
     "timestamp": 1758440778258,
     "user": {
      "displayName": "Artemis Papaspyrou",
      "userId": "18188189575963929921"
     },
     "user_tz": -180
    },
    "id": "MsMtfh_Ss7PY",
    "outputId": "14780e4d-2c7d-4261-c386-c27ad6b96765"
   },
   "outputs": [
    {
     "name": "stdout",
     "output_type": "stream",
     "text": [
      "\n",
      " 2: Loading Saved Model and Tokenizer \n",
      "Mounted at /content/drive\n",
      "\n",
      " Loading the Held-Out Test Set for Evaluation \n",
      " Consistent test data loaded successfully: 4490 samples\n",
      "\n",
      " Loading Saved Model and Tokenizer\n",
      "-> Model configuration loaded from 'config.json'.\n",
      "-> Tokenizer loaded successfully.\n"
     ]
    },
    {
     "name": "stderr",
     "output_type": "stream",
     "text": [
      "/usr/local/lib/python3.12/dist-packages/huggingface_hub/utils/_auth.py:94: UserWarning: \n",
      "The secret `HF_TOKEN` does not exist in your Colab secrets.\n",
      "To authenticate with the Hugging Face Hub, create a token in your settings tab (https://huggingface.co/settings/tokens), set it as secret in your Google Colab and restart your session.\n",
      "You will be able to reuse this secret in all of your notebooks.\n",
      "Please note that authentication is recommended but still optional to access public models or datasets.\n",
      "  warnings.warn(\n"
     ]
    },
    {
     "data": {
      "application/vnd.jupyter.widget-view+json": {
       "model_id": "075b8a95ef1f4671a67137cb7da1e290",
       "version_major": 2,
       "version_minor": 0
      },
      "text/plain": [
       "config.json:   0%|          | 0.00/570 [00:00<?, ?B/s]"
      ]
     },
     "metadata": {},
     "output_type": "display_data"
    },
    {
     "data": {
      "application/vnd.jupyter.widget-view+json": {
       "model_id": "b3ac635e04ae4384ab19b60c49aa9b8c",
       "version_major": 2,
       "version_minor": 0
      },
      "text/plain": [
       "pytorch_model.bin:   0%|          | 0.00/440M [00:00<?, ?B/s]"
      ]
     },
     "metadata": {},
     "output_type": "display_data"
    },
    {
     "name": "stdout",
     "output_type": "stream",
     "text": [
      "-> Full model loaded successfully from .keras file.\n",
      "\n",
      "--- Model Reload Summary ---\n",
      "   Model reloaded from: /content/drive/MyDrive/fake_news_models_k-folds/Latest_BertCNN\n",
      "   Max Length:          128\n",
      "   Classification Threshold: 0.5\n"
     ]
    },
    {
     "data": {
      "text/html": [
       "<pre style=\"white-space:pre;overflow-x:auto;line-height:normal;font-family:Menlo,'DejaVu Sans Mono',consolas,'Courier New',monospace\"><span style=\"font-weight: bold\">Model: \"functional_6\"</span>\n",
       "</pre>\n"
      ],
      "text/plain": [
       "\u001b[1mModel: \"functional_6\"\u001b[0m\n"
      ]
     },
     "metadata": {},
     "output_type": "display_data"
    },
    {
     "data": {
      "text/html": [
       "<pre style=\"white-space:pre;overflow-x:auto;line-height:normal;font-family:Menlo,'DejaVu Sans Mono',consolas,'Courier New',monospace\">┏━━━━━━━━━━━━━━━━━━━━━┳━━━━━━━━━━━━━━━━━━━┳━━━━━━━━━━━━┳━━━━━━━━━━━━━━━━━━━┓\n",
       "┃<span style=\"font-weight: bold\"> Layer (type)        </span>┃<span style=\"font-weight: bold\"> Output Shape      </span>┃<span style=\"font-weight: bold\">    Param # </span>┃<span style=\"font-weight: bold\"> Connected to      </span>┃\n",
       "┡━━━━━━━━━━━━━━━━━━━━━╇━━━━━━━━━━━━━━━━━━━╇━━━━━━━━━━━━╇━━━━━━━━━━━━━━━━━━━┩\n",
       "│ attention_mask      │ (<span style=\"color: #00d7ff; text-decoration-color: #00d7ff\">None</span>, <span style=\"color: #00af00; text-decoration-color: #00af00\">128</span>)       │          <span style=\"color: #00af00; text-decoration-color: #00af00\">0</span> │ -                 │\n",
       "│ (<span style=\"color: #0087ff; text-decoration-color: #0087ff\">InputLayer</span>)        │                   │            │                   │\n",
       "├─────────────────────┼───────────────────┼────────────┼───────────────────┤\n",
       "│ input_ids           │ (<span style=\"color: #00d7ff; text-decoration-color: #00d7ff\">None</span>, <span style=\"color: #00af00; text-decoration-color: #00af00\">128</span>)       │          <span style=\"color: #00af00; text-decoration-color: #00af00\">0</span> │ -                 │\n",
       "│ (<span style=\"color: #0087ff; text-decoration-color: #0087ff\">InputLayer</span>)        │                   │            │                   │\n",
       "├─────────────────────┼───────────────────┼────────────┼───────────────────┤\n",
       "│ bert_feature_extra… │ (<span style=\"color: #00d7ff; text-decoration-color: #00d7ff\">None</span>, <span style=\"color: #00af00; text-decoration-color: #00af00\">128</span>, <span style=\"color: #00af00; text-decoration-color: #00af00\">768</span>)  │          <span style=\"color: #00af00; text-decoration-color: #00af00\">0</span> │ attention_mask[<span style=\"color: #00af00; text-decoration-color: #00af00\">0</span>… │\n",
       "│ (<span style=\"color: #0087ff; text-decoration-color: #0087ff\">BertFeatureExtrac…</span> │                   │            │ input_ids[<span style=\"color: #00af00; text-decoration-color: #00af00\">0</span>][<span style=\"color: #00af00; text-decoration-color: #00af00\">0</span>]   │\n",
       "├─────────────────────┼───────────────────┼────────────┼───────────────────┤\n",
       "│ conv1d_6 (<span style=\"color: #0087ff; text-decoration-color: #0087ff\">Conv1D</span>)   │ (<span style=\"color: #00d7ff; text-decoration-color: #00d7ff\">None</span>, <span style=\"color: #00af00; text-decoration-color: #00af00\">126</span>, <span style=\"color: #00af00; text-decoration-color: #00af00\">64</span>)   │    <span style=\"color: #00af00; text-decoration-color: #00af00\">147,520</span> │ bert_feature_ext… │\n",
       "├─────────────────────┼───────────────────┼────────────┼───────────────────┤\n",
       "│ global_max_pooling… │ (<span style=\"color: #00d7ff; text-decoration-color: #00d7ff\">None</span>, <span style=\"color: #00af00; text-decoration-color: #00af00\">64</span>)        │          <span style=\"color: #00af00; text-decoration-color: #00af00\">0</span> │ conv1d_6[<span style=\"color: #00af00; text-decoration-color: #00af00\">0</span>][<span style=\"color: #00af00; text-decoration-color: #00af00\">0</span>]    │\n",
       "│ (<span style=\"color: #0087ff; text-decoration-color: #0087ff\">GlobalMaxPooling1…</span> │                   │            │                   │\n",
       "├─────────────────────┼───────────────────┼────────────┼───────────────────┤\n",
       "│ dropout_12          │ (<span style=\"color: #00d7ff; text-decoration-color: #00d7ff\">None</span>, <span style=\"color: #00af00; text-decoration-color: #00af00\">64</span>)        │          <span style=\"color: #00af00; text-decoration-color: #00af00\">0</span> │ global_max_pooli… │\n",
       "│ (<span style=\"color: #0087ff; text-decoration-color: #0087ff\">Dropout</span>)           │                   │            │                   │\n",
       "├─────────────────────┼───────────────────┼────────────┼───────────────────┤\n",
       "│ dense_6 (<span style=\"color: #0087ff; text-decoration-color: #0087ff\">Dense</span>)     │ (<span style=\"color: #00d7ff; text-decoration-color: #00d7ff\">None</span>, <span style=\"color: #00af00; text-decoration-color: #00af00\">32</span>)        │      <span style=\"color: #00af00; text-decoration-color: #00af00\">2,080</span> │ dropout_12[<span style=\"color: #00af00; text-decoration-color: #00af00\">0</span>][<span style=\"color: #00af00; text-decoration-color: #00af00\">0</span>]  │\n",
       "├─────────────────────┼───────────────────┼────────────┼───────────────────┤\n",
       "│ dropout_13          │ (<span style=\"color: #00d7ff; text-decoration-color: #00d7ff\">None</span>, <span style=\"color: #00af00; text-decoration-color: #00af00\">32</span>)        │          <span style=\"color: #00af00; text-decoration-color: #00af00\">0</span> │ dense_6[<span style=\"color: #00af00; text-decoration-color: #00af00\">0</span>][<span style=\"color: #00af00; text-decoration-color: #00af00\">0</span>]     │\n",
       "│ (<span style=\"color: #0087ff; text-decoration-color: #0087ff\">Dropout</span>)           │                   │            │                   │\n",
       "├─────────────────────┼───────────────────┼────────────┼───────────────────┤\n",
       "│ classification      │ (<span style=\"color: #00d7ff; text-decoration-color: #00d7ff\">None</span>, <span style=\"color: #00af00; text-decoration-color: #00af00\">1</span>)         │         <span style=\"color: #00af00; text-decoration-color: #00af00\">33</span> │ dropout_13[<span style=\"color: #00af00; text-decoration-color: #00af00\">0</span>][<span style=\"color: #00af00; text-decoration-color: #00af00\">0</span>]  │\n",
       "│ (<span style=\"color: #0087ff; text-decoration-color: #0087ff\">Dense</span>)             │                   │            │                   │\n",
       "└─────────────────────┴───────────────────┴────────────┴───────────────────┘\n",
       "</pre>\n"
      ],
      "text/plain": [
       "┏━━━━━━━━━━━━━━━━━━━━━┳━━━━━━━━━━━━━━━━━━━┳━━━━━━━━━━━━┳━━━━━━━━━━━━━━━━━━━┓\n",
       "┃\u001b[1m \u001b[0m\u001b[1mLayer (type)       \u001b[0m\u001b[1m \u001b[0m┃\u001b[1m \u001b[0m\u001b[1mOutput Shape     \u001b[0m\u001b[1m \u001b[0m┃\u001b[1m \u001b[0m\u001b[1m   Param #\u001b[0m\u001b[1m \u001b[0m┃\u001b[1m \u001b[0m\u001b[1mConnected to     \u001b[0m\u001b[1m \u001b[0m┃\n",
       "┡━━━━━━━━━━━━━━━━━━━━━╇━━━━━━━━━━━━━━━━━━━╇━━━━━━━━━━━━╇━━━━━━━━━━━━━━━━━━━┩\n",
       "│ attention_mask      │ (\u001b[38;5;45mNone\u001b[0m, \u001b[38;5;34m128\u001b[0m)       │          \u001b[38;5;34m0\u001b[0m │ -                 │\n",
       "│ (\u001b[38;5;33mInputLayer\u001b[0m)        │                   │            │                   │\n",
       "├─────────────────────┼───────────────────┼────────────┼───────────────────┤\n",
       "│ input_ids           │ (\u001b[38;5;45mNone\u001b[0m, \u001b[38;5;34m128\u001b[0m)       │          \u001b[38;5;34m0\u001b[0m │ -                 │\n",
       "│ (\u001b[38;5;33mInputLayer\u001b[0m)        │                   │            │                   │\n",
       "├─────────────────────┼───────────────────┼────────────┼───────────────────┤\n",
       "│ bert_feature_extra… │ (\u001b[38;5;45mNone\u001b[0m, \u001b[38;5;34m128\u001b[0m, \u001b[38;5;34m768\u001b[0m)  │          \u001b[38;5;34m0\u001b[0m │ attention_mask[\u001b[38;5;34m0\u001b[0m… │\n",
       "│ (\u001b[38;5;33mBertFeatureExtrac…\u001b[0m │                   │            │ input_ids[\u001b[38;5;34m0\u001b[0m][\u001b[38;5;34m0\u001b[0m]   │\n",
       "├─────────────────────┼───────────────────┼────────────┼───────────────────┤\n",
       "│ conv1d_6 (\u001b[38;5;33mConv1D\u001b[0m)   │ (\u001b[38;5;45mNone\u001b[0m, \u001b[38;5;34m126\u001b[0m, \u001b[38;5;34m64\u001b[0m)   │    \u001b[38;5;34m147,520\u001b[0m │ bert_feature_ext… │\n",
       "├─────────────────────┼───────────────────┼────────────┼───────────────────┤\n",
       "│ global_max_pooling… │ (\u001b[38;5;45mNone\u001b[0m, \u001b[38;5;34m64\u001b[0m)        │          \u001b[38;5;34m0\u001b[0m │ conv1d_6[\u001b[38;5;34m0\u001b[0m][\u001b[38;5;34m0\u001b[0m]    │\n",
       "│ (\u001b[38;5;33mGlobalMaxPooling1…\u001b[0m │                   │            │                   │\n",
       "├─────────────────────┼───────────────────┼────────────┼───────────────────┤\n",
       "│ dropout_12          │ (\u001b[38;5;45mNone\u001b[0m, \u001b[38;5;34m64\u001b[0m)        │          \u001b[38;5;34m0\u001b[0m │ global_max_pooli… │\n",
       "│ (\u001b[38;5;33mDropout\u001b[0m)           │                   │            │                   │\n",
       "├─────────────────────┼───────────────────┼────────────┼───────────────────┤\n",
       "│ dense_6 (\u001b[38;5;33mDense\u001b[0m)     │ (\u001b[38;5;45mNone\u001b[0m, \u001b[38;5;34m32\u001b[0m)        │      \u001b[38;5;34m2,080\u001b[0m │ dropout_12[\u001b[38;5;34m0\u001b[0m][\u001b[38;5;34m0\u001b[0m]  │\n",
       "├─────────────────────┼───────────────────┼────────────┼───────────────────┤\n",
       "│ dropout_13          │ (\u001b[38;5;45mNone\u001b[0m, \u001b[38;5;34m32\u001b[0m)        │          \u001b[38;5;34m0\u001b[0m │ dense_6[\u001b[38;5;34m0\u001b[0m][\u001b[38;5;34m0\u001b[0m]     │\n",
       "│ (\u001b[38;5;33mDropout\u001b[0m)           │                   │            │                   │\n",
       "├─────────────────────┼───────────────────┼────────────┼───────────────────┤\n",
       "│ classification      │ (\u001b[38;5;45mNone\u001b[0m, \u001b[38;5;34m1\u001b[0m)         │         \u001b[38;5;34m33\u001b[0m │ dropout_13[\u001b[38;5;34m0\u001b[0m][\u001b[38;5;34m0\u001b[0m]  │\n",
       "│ (\u001b[38;5;33mDense\u001b[0m)             │                   │            │                   │\n",
       "└─────────────────────┴───────────────────┴────────────┴───────────────────┘\n"
      ]
     },
     "metadata": {},
     "output_type": "display_data"
    },
    {
     "data": {
      "text/html": [
       "<pre style=\"white-space:pre;overflow-x:auto;line-height:normal;font-family:Menlo,'DejaVu Sans Mono',consolas,'Courier New',monospace\"><span style=\"font-weight: bold\"> Total params: </span><span style=\"color: #00af00; text-decoration-color: #00af00\">448,901</span> (1.71 MB)\n",
       "</pre>\n"
      ],
      "text/plain": [
       "\u001b[1m Total params: \u001b[0m\u001b[38;5;34m448,901\u001b[0m (1.71 MB)\n"
      ]
     },
     "metadata": {},
     "output_type": "display_data"
    },
    {
     "data": {
      "text/html": [
       "<pre style=\"white-space:pre;overflow-x:auto;line-height:normal;font-family:Menlo,'DejaVu Sans Mono',consolas,'Courier New',monospace\"><span style=\"font-weight: bold\"> Trainable params: </span><span style=\"color: #00af00; text-decoration-color: #00af00\">149,633</span> (584.50 KB)\n",
       "</pre>\n"
      ],
      "text/plain": [
       "\u001b[1m Trainable params: \u001b[0m\u001b[38;5;34m149,633\u001b[0m (584.50 KB)\n"
      ]
     },
     "metadata": {},
     "output_type": "display_data"
    },
    {
     "data": {
      "text/html": [
       "<pre style=\"white-space:pre;overflow-x:auto;line-height:normal;font-family:Menlo,'DejaVu Sans Mono',consolas,'Courier New',monospace\"><span style=\"font-weight: bold\"> Non-trainable params: </span><span style=\"color: #00af00; text-decoration-color: #00af00\">0</span> (0.00 B)\n",
       "</pre>\n"
      ],
      "text/plain": [
       "\u001b[1m Non-trainable params: \u001b[0m\u001b[38;5;34m0\u001b[0m (0.00 B)\n"
      ]
     },
     "metadata": {},
     "output_type": "display_data"
    },
    {
     "data": {
      "text/html": [
       "<pre style=\"white-space:pre;overflow-x:auto;line-height:normal;font-family:Menlo,'DejaVu Sans Mono',consolas,'Courier New',monospace\"><span style=\"font-weight: bold\"> Optimizer params: </span><span style=\"color: #00af00; text-decoration-color: #00af00\">299,268</span> (1.14 MB)\n",
       "</pre>\n"
      ],
      "text/plain": [
       "\u001b[1m Optimizer params: \u001b[0m\u001b[38;5;34m299,268\u001b[0m (1.14 MB)\n"
      ]
     },
     "metadata": {},
     "output_type": "display_data"
    }
   ],
   "source": [
    "# 2: LOADING THE PRE-TRAINED MODEL AND TOKENIZER\n",
    "print(\"\\n 2: Loading Saved Model and Tokenizer \")\n",
    "\n",
    "# Mount Google Drive to access artifacts\n",
    "from google.colab import drive\n",
    "drive.mount('/content/drive')\n",
    "\n",
    "# Define the Path to Your Saved Artifacts\n",
    "ARTIFACTS_DIR = Path(\"/content/drive/MyDrive/fake_news_models_k-folds/Latest_BertCNN\")\n",
    "if not ARTIFACTS_DIR.exists():\n",
    "    raise FileNotFoundError(f\"Critical Error: The artifact directory was not found at {ARTIFACTS_DIR}\")\n",
    "\n",
    "# Load the PRE-DEFINED Test Set\n",
    "print(\"\\n Loading the Held-Out Test Set for Evaluation \")\n",
    "test_data_path = ARTIFACTS_DIR / \"test_data.csv\"\n",
    "if not test_data_path.exists():\n",
    "    raise FileNotFoundError(f\"Critical Error: Test data file 'test_data.csv' not found in {ARTIFACTS_DIR}\")\n",
    "\n",
    "# Load the test set used during training\n",
    "test_df = pd.read_csv(test_data_path)\n",
    "X_test = test_df['content']\n",
    "Y_test = test_df['label']\n",
    "print(f\" Consistent test data loaded successfully: {len(X_test)} samples\")\n",
    "\n",
    "\n",
    "# Load Model Configuration\n",
    "print(\"\\n Loading Saved Model and Tokenizer\")\n",
    "config_path = ARTIFACTS_DIR / \"config.json\"\n",
    "if config_path.exists():\n",
    "    config = json.loads(config_path.read_text())\n",
    "    print(\"-> Model configuration loaded from 'config.json'.\")\n",
    "else:\n",
    "    # Fallback if config is missing\n",
    "    config = {\"model_name\": \"bert-base-uncased\", \"max_len\": 128, \"threshold\": 0.5}\n",
    "    print(\"[Warning] 'config.json' not found. Using default parameters.\")\n",
    "\n",
    "model_name = config.get(\"model_name\")\n",
    "max_len = int(config.get(\"max_len\"))\n",
    "threshold = float(config.get(\"threshold\", 0.5))\n",
    "\n",
    "# Load the Tokenizer\n",
    "tokenizer_dir = ARTIFACTS_DIR / \"tokenizer\"\n",
    "if not tokenizer_dir.exists():\n",
    "     raise FileNotFoundError(f\"Critical Error: Tokenizer directory not found at {tokenizer_dir}\")\n",
    "tokenizer = AutoTokenizer.from_pretrained(str(tokenizer_dir))\n",
    "print(\"-> Tokenizer loaded successfully.\")\n",
    "\n",
    "# Redefine the Custom Layer for Model Loading\n",
    "class BertFeatureExtractor(Layer):\n",
    "    def __init__(self, model_name='bert-base-uncased', **kwargs):\n",
    "        super(BertFeatureExtractor, self).__init__(**kwargs)\n",
    "        self.model_name = model_name\n",
    "        self.bert = TFBertModel.from_pretrained(self.model_name, from_pt=True)\n",
    "        self.bert.trainable = False\n",
    "    def call(self, inputs):\n",
    "        return self.bert(inputs).last_hidden_state\n",
    "    def get_config(self):\n",
    "        config = super().get_config()\n",
    "        config.update({\"model_name\": self.model_name})\n",
    "        return config\n",
    "\n",
    "# Load the Full Model\n",
    "model_path = ARTIFACTS_DIR / \"model.keras\"\n",
    "if not model_path.exists():\n",
    "    raise FileNotFoundError(f\"Critical Error: Model file 'model.keras' not found in {ARTIFACTS_DIR}\")\n",
    "\n",
    "model = load_model(\n",
    "    model_path,\n",
    "    custom_objects={\"BertFeatureExtractor\": BertFeatureExtractor}\n",
    ")\n",
    "print(\"-> Full model loaded successfully from .keras file.\")\n",
    "\n",
    "print(\"\\n--- Model Reload Summary ---\")\n",
    "print(f\"   Model reloaded from: {ARTIFACTS_DIR}\")\n",
    "print(f\"   Max Length:          {max_len}\")\n",
    "print(f\"   Classification Threshold: {threshold}\")\n",
    "model.summary()\n"
   ]
  },
  {
   "cell_type": "code",
   "execution_count": null,
   "metadata": {
    "colab": {
     "base_uri": "https://localhost:8080/",
     "height": 952
    },
    "executionInfo": {
     "elapsed": 52072,
     "status": "ok",
     "timestamp": 1758440830340,
     "user": {
      "displayName": "Artemis Papaspyrou",
      "userId": "18188189575963929921"
     },
     "user_tz": -180
    },
    "id": "kSNAvACOJNmO",
    "outputId": "72317630-0a8a-45f6-8594-03e891940d0a"
   },
   "outputs": [
    {
     "name": "stdout",
     "output_type": "stream",
     "text": [
      "\n",
      " 3: Evaluating Model Performance on Test Set \n",
      "Making predictions on the test set...\n",
      "\u001b[1m141/141\u001b[0m \u001b[32m━━━━━━━━━━━━━━━━━━━━\u001b[0m\u001b[37m\u001b[0m \u001b[1m43s\u001b[0m 263ms/step\n",
      "\n",
      "--- Classification Report (Test Set) ---\n",
      "               precision    recall  f1-score   support\n",
      "\n",
      "Real News (0)       0.97      0.95      0.96      2142\n",
      "Fake News (1)       0.96      0.97      0.96      2348\n",
      "\n",
      "     accuracy                           0.96      4490\n",
      "    macro avg       0.96      0.96      0.96      4490\n",
      " weighted avg       0.96      0.96      0.96      4490\n",
      "\n",
      "\n",
      "--- Confusion Matrix (Test Set) ---\n"
     ]
    },
    {
     "data": {
      "image/png": "[encoded data removed]",
      "text/plain": [
       "<Figure size 700x600 with 2 Axes>"
      ]
     },
     "metadata": {},
     "output_type": "display_data"
    },
    {
     "name": "stdout",
     "output_type": "stream",
     "text": [
      "\n",
      "[Info] 'history.json' not found. Skipping training curve plots (expected after K-Fold).\n"
     ]
    }
   ],
   "source": [
    "# 3: EVALUATING THE LOADED MODEL\n",
    "print(\"\\n 3: Evaluating Model Performance on Test Set \")\n",
    "\n",
    "# Define where to save evaluation reports\n",
    "REPORTS_DIR = ARTIFACTS_DIR / \"reports\"\n",
    "REPORTS_DIR.mkdir(parents=True, exist_ok=True)\n",
    "\n",
    "# Convert X_test to a list\n",
    "X_test_list = [str(text) for text in X_test.tolist()]\n",
    "\n",
    "# Tokenize the cleaned list of strings\n",
    "X_test_token = tokenizer(\n",
    "    X_test_list,\n",
    "    add_special_tokens=True,\n",
    "    max_length=max_len,\n",
    "    truncation=True,\n",
    "    padding='max_length',\n",
    "    return_tensors='tf'\n",
    ")\n",
    "\n",
    "print(\"Making predictions on the test set...\")\n",
    "\n",
    "test_probabilities = model.predict(dict(X_test_token), batch_size=32).flatten()\n",
    "test_predictions = (test_probabilities >= threshold).astype(int)\n",
    "true_labels = np.array(Y_test).flatten()\n",
    "\n",
    "# Generate and Save Evaluation Reports\n",
    "print(\"\\n--- Classification Report (Test Set) ---\")\n",
    "report_str = classification_report(true_labels, test_predictions, target_names=['Real News (0)', 'Fake News (1)'])\n",
    "print(report_str)\n",
    "(REPORTS_DIR / \"classification_report.txt\").write_text(report_str)\n",
    "\n",
    "print(\"\\n--- Confusion Matrix (Test Set) ---\")\n",
    "cm = confusion_matrix(true_labels, test_predictions)\n",
    "plt.figure(figsize=(7, 6))\n",
    "sns.heatmap(cm, annot=True, fmt='d', cmap='Blues', xticklabels=['Real', 'Fake'], yticklabels=['Real', 'Fake'], annot_kws={\"size\": 14})\n",
    "plt.xlabel(\"Predicted Label\", fontsize=12)\n",
    "plt.ylabel(\"True Label\", fontsize=12)\n",
    "plt.title(\"Confusion Matrix\", fontsize=16)\n",
    "plt.tight_layout()\n",
    "plt.savefig(REPORTS_DIR / \"confusion_matrix.png\", dpi=150)\n",
    "plt.show()\n",
    "\n",
    "# Plotting training history if available\n",
    "history_path = ARTIFACTS_DIR / \"history.json\"\n",
    "if history_path.exists():\n",
    "    print(\"\\n[Info] 'history.json' found. Plotting training curves...\")\n",
    "else:\n",
    "    print(\"\\n[Info] 'history.json' not found. Skipping training curve plots (expected after K-Fold).\")"
   ]
  },
  {
   "cell_type": "code",
   "execution_count": null,
   "metadata": {
    "colab": {
     "base_uri": "https://localhost:8080/",
     "height": 740
    },
    "executionInfo": {
     "elapsed": 140326,
     "status": "ok",
     "timestamp": 1758441057220,
     "user": {
      "displayName": "Artemis Papaspyrou",
      "userId": "18188189575963929921"
     },
     "user_tz": -180
    },
    "id": "NDLqsp6Ectwn",
    "outputId": "c91577fb-6f05-49fd-cf82-22ba64af30cf"
   },
   "outputs": [
    {
     "name": "stdout",
     "output_type": "stream",
     "text": [
      "\n",
      " 4: Launching Gradio Interface\n"
     ]
    },
    {
     "name": "stderr",
     "output_type": "stream",
     "text": [
      "/usr/local/lib/python3.12/dist-packages/gradio/interface.py:414: UserWarning: The `allow_flagging` parameter in `Interface` is deprecated. Use `flagging_mode` instead.\n",
      "  warnings.warn(\n"
     ]
    },
    {
     "name": "stdout",
     "output_type": "stream",
     "text": [
      "It looks like you are running Gradio on a hosted Jupyter notebook, which requires `share=True`. Automatically setting `share=True` (you can turn this off by setting `share=False` in `launch()` explicitly).\n",
      "\n",
      "Colab notebook detected. This cell will run indefinitely so that you can see errors and logs. To turn off, set debug=False in launch().\n",
      "* Running on public URL: https://af03a5ad5f03e28252.gradio.live\n",
      "\n",
      "This share link expires in 1 week. For free permanent hosting and GPU upgrades, run `gradio deploy` from the terminal in the working directory to deploy to Hugging Face Spaces (https://huggingface.co/spaces)\n"
     ]
    },
    {
     "data": {
      "text/html": [
       "<div><iframe src=\"https://af03a5ad5f03e28252.gradio.live\" width=\"100%\" height=\"500\" allow=\"autoplay; camera; microphone; clipboard-read; clipboard-write;\" frameborder=\"0\" allowfullscreen></iframe></div>"
      ],
      "text/plain": [
       "<IPython.core.display.HTML object>"
      ]
     },
     "metadata": {},
     "output_type": "display_data"
    },
    {
     "name": "stdout",
     "output_type": "stream",
     "text": [
      "Keyboard interruption in main thread... closing server.\n",
      "Killing tunnel 127.0.0.1:7860 <> https://af03a5ad5f03e28252.gradio.live\n"
     ]
    },
    {
     "data": {
      "text/plain": []
     },
     "execution_count": 4,
     "metadata": {},
     "output_type": "execute_result"
    }
   ],
   "source": [
    "# 4: GRADIO INTERFACE FOR INTERACTIVE PREDICTION\n",
    "print(\"\\n 4: Launching Gradio Interface\")\n",
    "\n",
    "# Import the gradio library\n",
    "import gradio as gr\n",
    "\n",
    "def predict_news(text):\n",
    "\n",
    "    # 1. Clean and prepare the input text\n",
    "    cleaned_text = clean_text(text)\n",
    "\n",
    "    # 2. Tokenize the text for the model\n",
    "    inputs = tokenizer(\n",
    "        [cleaned_text],  # The tokenizer expects a list of strings\n",
    "        add_special_tokens=True,\n",
    "        max_length=max_len,\n",
    "        truncation=True,\n",
    "        padding='max_length',\n",
    "        return_tensors='tf'\n",
    "    )\n",
    "\n",
    "    # 3. Use the loaded model to make a prediction\n",
    "    probability = model.predict(dict(inputs), verbose=0).flatten()[0]\n",
    "\n",
    "    # 4. Format the output for Gradio's Label component\n",
    "    if probability >= threshold:\n",
    "        return {'Fake News': float(probability), 'Real News': 1 - float(probability)}\n",
    "    else:\n",
    "        return {'Real News': 1 - float(probability), 'Fake News': float(probability)}\n",
    "\n",
    "# Define the Gradio Interface layout and components\n",
    "iface = gr.Interface(\n",
    "    fn=predict_news,\n",
    "    inputs=gr.Textbox(\n",
    "        lines=15,\n",
    "        placeholder=\"Paste the full text of a news article here...\",\n",
    "        label=\"News Article Text\"\n",
    "    ),\n",
    "    outputs=gr.Label(\n",
    "        num_top_classes=2,\n",
    "        label=\"Prediction Results\"\n",
    "    ),\n",
    "    title=\" Fake News Detector\",\n",
    "    description=\"An AI-powered tool to help distinguish between real and fake news. \"\n",
    "                \"This model uses a BERT and CNN architecture to analyze the text. \"\n",
    "                \"Enter an article below to see its classification.\",\n",
    "    examples=[\n",
    "        [\"The president announced today a new policy that will boost the economy.\"],\n",
    "        [\"Global markets reacted to the central bank's announcement of an interest rate hike on Tuesday, with the Dow Jones Industrial Average falling by over 200 points in early trading. Analysts are watching commodity prices closely.\"]\n",
    "    ],\n",
    "    allow_flagging=\"never\"\n",
    ")\n",
    "\n",
    "# Launch the interactive interface\n",
    "iface.launch(debug=True)"
   ]
  }
 ],
 "metadata": {
  "accelerator": "GPU",
  "colab": {
   "authorship_tag": "ABX9TyPYp49enB5hFTqRIJGDJ3bB",
   "gpuType": "T4",
   "provenance": []
  },
  "kernelspec": {
   "display_name": "Python 3",
   "name": "python3"
  },
  "language_info": {
   "name": "python"
  }
 },
 "nbformat": 4,
 "nbformat_minor": 0
}
