{
 "cells": [
  {
   "cell_type": "code",
   "execution_count": null,
   "metadata": {
    "colab": {
     "base_uri": "https://localhost:8080/",
     "height": 364
    },
    "executionInfo": {
     "elapsed": 344684,
     "status": "ok",
     "timestamp": 1758346250012,
     "user": {
      "displayName": "Artemis Papaspyrou",
      "userId": "18188189575963929921"
     },
     "user_tz": -180
    },
    "id": "pMITa-mgxt7r",
    "outputId": "b89bc9cd-81e7-4baa-8081-f53d9bec310c"
   },
   "outputs": [
    {
     "name": "stdout",
     "output_type": "stream",
     "text": [
      " Installing and Importing Libraries \n",
      "\n",
      "--- Section 1: Loading and Preprocessing Data ---\n",
      "Please upload the 'archive.zip' file.\n"
     ]
    },
    {
     "data": {
      "text/html": [
       "\n",
       "     <input type=\"file\" id=\"files-a6c53d19-003e-4466-9202-ba4972acd09b\" name=\"files[]\" multiple disabled\n",
       "        style=\"border:none\" />\n",
       "     <output id=\"result-a6c53d19-003e-4466-9202-ba4972acd09b\">\n",
       "      Upload widget is only available when the cell has been executed in the\n",
       "      current browser session. Please rerun this cell to enable.\n",
       "      </output>\n",
       "      <script>// Copyright 2017 Google LLC\n",
       "//\n",
       "// Licensed under the Apache License, Version 2.0 (the \"License\");\n",
       "// you may not use this file except in compliance with the License.\n",
       "// You may obtain a copy of the License at\n",
       "//\n",
       "//      http://www.apache.org/licenses/LICENSE-2.0\n",
       "//\n",
       "// Unless required by applicable law or agreed to in writing, software\n",
       "// distributed under the License is distributed on an \"AS IS\" BASIS,\n",
       "// WITHOUT WARRANTIES OR CONDITIONS OF ANY KIND, either express or implied.\n",
       "// See the License for the specific language governing permissions and\n",
       "// limitations under the License.\n",
       "\n",
       "/**\n",
       " * @fileoverview Helpers for google.colab Python module.\n",
       " */\n",
       "(function(scope) {\n",
       "function span(text, styleAttributes = {}) {\n",
       "  const element = document.createElement('span');\n",
       "  element.textContent = text;\n",
       "  for (const key of Object.keys(styleAttributes)) {\n",
       "    element.style[key] = styleAttributes[key];\n",
       "  }\n",
       "  return element;\n",
       "}\n",
       "\n",
       "// Max number of bytes which will be uploaded at a time.\n",
       "const MAX_PAYLOAD_SIZE = 100 * 1024;\n",
       "\n",
       "function _uploadFiles(inputId, outputId) {\n",
       "  const steps = uploadFilesStep(inputId, outputId);\n",
       "  const outputElement = document.getElementById(outputId);\n",
       "  // Cache steps on the outputElement to make it available for the next call\n",
       "  // to uploadFilesContinue from Python.\n",
       "  outputElement.steps = steps;\n",
       "\n",
       "  return _uploadFilesContinue(outputId);\n",
       "}\n",
       "\n",
       "// This is roughly an async generator (not supported in the browser yet),\n",
       "// where there are multiple asynchronous steps and the Python side is going\n",
       "// to poll for completion of each step.\n",
       "// This uses a Promise to block the python side on completion of each step,\n",
       "// then passes the result of the previous step as the input to the next step.\n",
       "function _uploadFilesContinue(outputId) {\n",
       "  const outputElement = document.getElementById(outputId);\n",
       "  const steps = outputElement.steps;\n",
       "\n",
       "  const next = steps.next(outputElement.lastPromiseValue);\n",
       "  return Promise.resolve(next.value.promise).then((value) => {\n",
       "    // Cache the last promise value to make it available to the next\n",
       "    // step of the generator.\n",
       "    outputElement.lastPromiseValue = value;\n",
       "    return next.value.response;\n",
       "  });\n",
       "}\n",
       "\n",
       "/**\n",
       " * Generator function which is called between each async step of the upload\n",
       " * process.\n",
       " * @param {string} inputId Element ID of the input file picker element.\n",
       " * @param {string} outputId Element ID of the output display.\n",
       " * @return {!Iterable<!Object>} Iterable of next steps.\n",
       " */\n",
       "function* uploadFilesStep(inputId, outputId) {\n",
       "  const inputElement = document.getElementById(inputId);\n",
       "  inputElement.disabled = false;\n",
       "\n",
       "  const outputElement = document.getElementById(outputId);\n",
       "  outputElement.innerHTML = '';\n",
       "\n",
       "  const pickedPromise = new Promise((resolve) => {\n",
       "    inputElement.addEventListener('change', (e) => {\n",
       "      resolve(e.target.files);\n",
       "    });\n",
       "  });\n",
       "\n",
       "  const cancel = document.createElement('button');\n",
       "  inputElement.parentElement.appendChild(cancel);\n",
       "  cancel.textContent = 'Cancel upload';\n",
       "  const cancelPromise = new Promise((resolve) => {\n",
       "    cancel.onclick = () => {\n",
       "      resolve(null);\n",
       "    };\n",
       "  });\n",
       "\n",
       "  // Wait for the user to pick the files.\n",
       "  const files = yield {\n",
       "    promise: Promise.race([pickedPromise, cancelPromise]),\n",
       "    response: {\n",
       "      action: 'starting',\n",
       "    }\n",
       "  };\n",
       "\n",
       "  cancel.remove();\n",
       "\n",
       "  // Disable the input element since further picks are not allowed.\n",
       "  inputElement.disabled = true;\n",
       "\n",
       "  if (!files) {\n",
       "    return {\n",
       "      response: {\n",
       "        action: 'complete',\n",
       "      }\n",
       "    };\n",
       "  }\n",
       "\n",
       "  for (const file of files) {\n",
       "    const li = document.createElement('li');\n",
       "    li.append(span(file.name, {fontWeight: 'bold'}));\n",
       "    li.append(span(\n",
       "        `(${file.type || 'n/a'}) - ${file.size} bytes, ` +\n",
       "        `last modified: ${\n",
       "            file.lastModifiedDate ? file.lastModifiedDate.toLocaleDateString() :\n",
       "                                    'n/a'} - `));\n",
       "    const percent = span('0% done');\n",
       "    li.appendChild(percent);\n",
       "\n",
       "    outputElement.appendChild(li);\n",
       "\n",
       "    const fileDataPromise = new Promise((resolve) => {\n",
       "      const reader = new FileReader();\n",
       "      reader.onload = (e) => {\n",
       "        resolve(e.target.result);\n",
       "      };\n",
       "      reader.readAsArrayBuffer(file);\n",
       "    });\n",
       "    // Wait for the data to be ready.\n",
       "    let fileData = yield {\n",
       "      promise: fileDataPromise,\n",
       "      response: {\n",
       "        action: 'continue',\n",
       "      }\n",
       "    };\n",
       "\n",
       "    // Use a chunked sending to avoid message size limits. See b/62115660.\n",
       "    let position = 0;\n",
       "    do {\n",
       "      const length = Math.min(fileData.byteLength - position, MAX_PAYLOAD_SIZE);\n",
       "      const chunk = new Uint8Array(fileData, position, length);\n",
       "      position += length;\n",
       "\n",
       "      const base64 = btoa(String.fromCharCode.apply(null, chunk));\n",
       "      yield {\n",
       "        response: {\n",
       "          action: 'append',\n",
       "          file: file.name,\n",
       "          data: base64,\n",
       "        },\n",
       "      };\n",
       "\n",
       "      let percentDone = fileData.byteLength === 0 ?\n",
       "          100 :\n",
       "          Math.round((position / fileData.byteLength) * 100);\n",
       "      percent.textContent = `${percentDone}% done`;\n",
       "\n",
       "    } while (position < fileData.byteLength);\n",
       "  }\n",
       "\n",
       "  // All done.\n",
       "  yield {\n",
       "    response: {\n",
       "      action: 'complete',\n",
       "    }\n",
       "  };\n",
       "}\n",
       "\n",
       "scope.google = scope.google || {};\n",
       "scope.google.colab = scope.google.colab || {};\n",
       "scope.google.colab._files = {\n",
       "  _uploadFiles,\n",
       "  _uploadFilesContinue,\n",
       "};\n",
       "})(self);\n",
       "</script> "
      ],
      "text/plain": [
       "<IPython.core.display.HTML object>"
      ]
     },
     "metadata": {},
     "output_type": "display_data"
    },
    {
     "name": "stdout",
     "output_type": "stream",
     "text": [
      "Saving archive.zip to archive.zip\n",
      "\n",
      "Dataset loaded successfully with 44898 articles.\n",
      "Class distribution:\n",
      " label\n",
      "1    23481\n",
      "0    21417\n",
      "Name: count, dtype: int64\n",
      "\n",
      "Data Split:\n",
      "Training data size:   35918\n",
      "Validation data size: 4490\n",
      "Test data size:       4490\n"
     ]
    }
   ],
   "source": [
    "# IMPORT LIBRARIES\n",
    "import pandas as pd\n",
    "import numpy as np\n",
    "import tensorflow as tf\n",
    "import re\n",
    "import os\n",
    "import zipfile\n",
    "import seaborn as sns\n",
    "import matplotlib.pyplot as plt\n",
    "from sklearn.model_selection import train_test_split\n",
    "from sklearn.metrics import classification_report, confusion_matrix\n",
    "from transformers import DistilBertTokenizer, TFDistilBertModel\n",
    "from tensorflow.keras.models import Model\n",
    "from tensorflow.keras.layers import Input, Dense, Dropout, GlobalAveragePooling1D, Layer\n",
    "from tensorflow.keras.optimizers import Adam\n",
    "from tensorflow.keras.callbacks import EarlyStopping, ReduceLROnPlateau\n",
    "from google.colab import files\n",
    "\n",
    "# 1: DATA LOADING AND PREPROCESSING\n",
    "print(\"\\n 1: Loading and Preprocessing Data \")\n",
    "\n",
    "# Text cleaning function\n",
    "def clean_text(text):\n",
    "    text = re.sub(r'https?://\\S+|www\\.\\S+', '', text)  # Remove URLs\n",
    "    text = re.sub(r'<.*?>', '', text)                 # Remove HTML tags\n",
    "    text = re.sub(r'[^a-zA-Z\\s]', '', text)           # Remove non-alphanumeric characters\n",
    "    text = text.lower()                               # Convert to lowercase\n",
    "    text = re.sub(r'\\s+', ' ', text).strip()          # Remove extra whitespace\n",
    "    return text\n",
    "\n",
    "# Upload the dataset zip file\n",
    "print(\"Please upload the 'archive.zip' file.\")\n",
    "uploaded = files.upload()\n",
    "\n",
    "# Unzip and load the data\n",
    "with zipfile.ZipFile('archive.zip', 'r') as zip_ref:\n",
    "    zip_ref.extractall('/content/data')\n",
    "\n",
    "fake_df = pd.read_csv('/content/data/Fake.csv')\n",
    "true_df = pd.read_csv('/content/data/True.csv')\n",
    "\n",
    "# ADDRESSING DATA LEAKAGE\n",
    "true_df['text'] = true_df['text'].apply(lambda x: x.split(' - ', 1)[-1])\n",
    "\n",
    "# Add labels: 1 for Fake, 0 for Real\n",
    "fake_df['label'] = 1\n",
    "true_df['label'] = 0\n",
    "\n",
    "# Combine, shuffle, and apply the cleaning function\n",
    "df = pd.concat([fake_df, true_df]).sample(frac=1, random_state=42).reset_index(drop=True)\n",
    "df['content'] = (df['title'].astype(str) + ' ' + df['text'].astype(str)).apply(clean_text)\n",
    "df = df[['content', 'label']]\n",
    "\n",
    "print(f\"\\nDataset loaded successfully with {len(df)} articles.\")\n",
    "print(\"Class distribution:\\n\", df['label'].value_counts())\n",
    "\n",
    "# Split the data into training (80%), validation (10%), and test (10%) sets\n",
    "X_train, X_temp, Y_train, Y_temp = train_test_split(\n",
    "    df['content'], df['label'], test_size=0.2, random_state=42, stratify=df['label']\n",
    ")\n",
    "X_val, X_test, Y_val, Y_test = train_test_split(\n",
    "    X_temp, Y_temp, test_size=0.5, random_state=42, stratify=Y_temp\n",
    ")\n",
    "\n",
    "print(f\"\\nData Split:\")\n",
    "print(f\"Training data size:   {len(X_train)}\")\n",
    "print(f\"Validation data size: {len(X_val)}\")\n",
    "print(f\"Test data size:       {len(X_test)}\")"
   ]
  },
  {
   "cell_type": "code",
   "execution_count": null,
   "metadata": {
    "colab": {
     "base_uri": "https://localhost:8080/",
     "height": 935,
     "referenced_widgets": [
      "4c63ac672a8d407a9675c6e357bdd225",
      "41d3d4bf497e45d88ed3d4e7336c16c6",
      "e76cce40330b4e95a786debf77ab6b1f",
      "0cb415814c79436b96e9cd61b78e7cbd",
      "ab6797d6d1af4ec999c1aca2be95fcd0",
      "937a370f1b254df381e9c5964d516b62",
      "46f8a74edf9d456a8426c086364e4a38",
      "b6b51dbea9554fbbb0d6cd2050bb45a8",
      "3567988a3d4248be95218500d0f59efc",
      "c7f15d85f7ca42cd8aa0fbe05b75f863",
      "8ac789754a9b4228980e7ff6322d799f",
      "6011da4a8b35471eb674ee3eb6d45dcc",
      "399893897509465391953e0697be25ca",
      "602c0bc1f2bb4a3f998af7cd45c5c787",
      "9e103519075542228161589f167bfbae",
      "15920754e1674a829708cf03b379fcb7",
      "498bcbff546e4924a2b59ac9779bb69d",
      "765d1fb89c054e2298291384c49138a0",
      "4f8cdc76c0244aec9cb18ff01cbfd92d",
      "63598fdedf214d56846bb5751f650650",
      "487f52efe01f415db82e6ce2d1edb0e6",
      "f1d650db317c4d9da558467d5e76f48c",
      "27dbd070600345ce997972d5b65902e2",
      "3ed12747a60a4c0c9b80b4e22806dcbf",
      "e4ef236618b54c5b8452d74341621244",
      "c7966618449642b9bc43aabf57e877f8",
      "1bfa647daeb54809a426d135b21e068c",
      "13e198b1004c4e03b645d41421aa8dc8",
      "03f301cc2c4546ff902fe135894ca372",
      "d63b2d6230aa47429476df061653a7c0",
      "26285d0f6dd840f1bd6a37b9c0cd62af",
      "b4873d0c88de424ea8cb68ca2391ba19",
      "ecd60f0d927a49939ff1017957cc6f4e",
      "e2ef76e715b1435282dc4b9c18b18a26",
      "2848969c97f64d398427b09357f36c66",
      "94b28208d96841329ee33764e2b8f393",
      "9d1b7fda423e4791a783152773a2cb2d",
      "323d3344eabb4c459ab98cbd656aa055",
      "025f80b2eaec470697ad0503f554bc73",
      "75ae3ce63de448a1ad723d9b988fd24e",
      "d61d64b61ae546f68a57e1a509a8656e",
      "33e0d42c286b4ad482f75ffa25dfc48e",
      "c8a73124b13f4528a8e83f3c5229c51d",
      "31f34dec363d4ed2bc24af71dbd7c234",
      "691f2119aa5a4f8e959b41d3371880ea",
      "92c3e81858b046709d92897b6de95095",
      "1d367547598d45768a32ef067f9711b1",
      "b83fee04f6f94676a09554ef8cd11290",
      "9ba04548aba74233bffea4100d20cd03",
      "a48ebd3327014d2ab80d334d259f9e24",
      "09e0fb9b359944e59b4110baf2f8dfb5",
      "34cd3360c5404334bbcf4ccc19950311",
      "e9c4403da97e4aeeb70c9f63407c16ff",
      "cfdaafad2ab640ea94bda1d00b45eda8",
      "b279dc521f544edb9ab092de4d5713a0"
     ]
    },
    "executionInfo": {
     "elapsed": 24129,
     "status": "ok",
     "timestamp": 1758346274150,
     "user": {
      "displayName": "Artemis Papaspyrou",
      "userId": "18188189575963929921"
     },
     "user_tz": -180
    },
    "id": "-RhNnv-8x3Se",
    "outputId": "e2852dde-d481-41e9-be11-c995554f426a"
   },
   "outputs": [
    {
     "name": "stdout",
     "output_type": "stream",
     "text": [
      "\n",
      " Defining Tokenizer and DistilBERT Model\n"
     ]
    },
    {
     "name": "stderr",
     "output_type": "stream",
     "text": [
      "/usr/local/lib/python3.12/dist-packages/huggingface_hub/utils/_auth.py:94: UserWarning: \n",
      "The secret `HF_TOKEN` does not exist in your Colab secrets.\n",
      "To authenticate with the Hugging Face Hub, create a token in your settings tab (https://huggingface.co/settings/tokens), set it as secret in your Google Colab and restart your session.\n",
      "You will be able to reuse this secret in all of your notebooks.\n",
      "Please note that authentication is recommended but still optional to access public models or datasets.\n",
      "  warnings.warn(\n"
     ]
    },
    {
     "data": {
      "application/vnd.jupyter.widget-view+json": {
       "model_id": "4c63ac672a8d407a9675c6e357bdd225",
       "version_major": 2,
       "version_minor": 0
      },
      "text/plain": [
       "tokenizer_config.json:   0%|          | 0.00/48.0 [00:00<?, ?B/s]"
      ]
     },
     "metadata": {},
     "output_type": "display_data"
    },
    {
     "data": {
      "application/vnd.jupyter.widget-view+json": {
       "model_id": "6011da4a8b35471eb674ee3eb6d45dcc",
       "version_major": 2,
       "version_minor": 0
      },
      "text/plain": [
       "vocab.txt:   0%|          | 0.00/232k [00:00<?, ?B/s]"
      ]
     },
     "metadata": {},
     "output_type": "display_data"
    },
    {
     "data": {
      "application/vnd.jupyter.widget-view+json": {
       "model_id": "27dbd070600345ce997972d5b65902e2",
       "version_major": 2,
       "version_minor": 0
      },
      "text/plain": [
       "tokenizer.json:   0%|          | 0.00/466k [00:00<?, ?B/s]"
      ]
     },
     "metadata": {},
     "output_type": "display_data"
    },
    {
     "data": {
      "application/vnd.jupyter.widget-view+json": {
       "model_id": "e2ef76e715b1435282dc4b9c18b18a26",
       "version_major": 2,
       "version_minor": 0
      },
      "text/plain": [
       "config.json:   0%|          | 0.00/483 [00:00<?, ?B/s]"
      ]
     },
     "metadata": {},
     "output_type": "display_data"
    },
    {
     "data": {
      "application/vnd.jupyter.widget-view+json": {
       "model_id": "691f2119aa5a4f8e959b41d3371880ea",
       "version_major": 2,
       "version_minor": 0
      },
      "text/plain": [
       "pytorch_model.bin:   0%|          | 0.00/268M [00:00<?, ?B/s]"
      ]
     },
     "metadata": {},
     "output_type": "display_data"
    },
    {
     "name": "stderr",
     "output_type": "stream",
     "text": [
      "TensorFlow and JAX classes are deprecated and will be removed in Transformers v5. We recommend migrating to PyTorch classes or pinning your version of Transformers.\n",
      "Some weights of the PyTorch model were not used when initializing the TF 2.0 model TFDistilBertModel: ['vocab_transform.weight', 'vocab_projector.weight', 'vocab_projector.bias', 'vocab_layer_norm.weight', 'vocab_layer_norm.bias', 'vocab_transform.bias']\n",
      "- This IS expected if you are initializing TFDistilBertModel from a PyTorch model trained on another task or with another architecture (e.g. initializing a TFBertForSequenceClassification model from a BertForPreTraining model).\n",
      "- This IS NOT expected if you are initializing TFDistilBertModel from a PyTorch model that you expect to be exactly identical (e.g. initializing a TFBertForSequenceClassification model from a BertForSequenceClassification model).\n",
      "All the weights of TFDistilBertModel were initialized from the PyTorch model.\n",
      "If your task is similar to the task the model of the checkpoint was trained on, you can already use TFDistilBertModel for predictions without further training.\n"
     ]
    },
    {
     "name": "stdout",
     "output_type": "stream",
     "text": [
      "\n",
      "DistilBERT Model Architecture:\n"
     ]
    },
    {
     "data": {
      "text/html": [
       "<pre style=\"white-space:pre;overflow-x:auto;line-height:normal;font-family:Menlo,'DejaVu Sans Mono',consolas,'Courier New',monospace\"><span style=\"font-weight: bold\">Model: \"functional\"</span>\n",
       "</pre>\n"
      ],
      "text/plain": [
       "\u001b[1mModel: \"functional\"\u001b[0m\n"
      ]
     },
     "metadata": {},
     "output_type": "display_data"
    },
    {
     "data": {
      "text/html": [
       "<pre style=\"white-space:pre;overflow-x:auto;line-height:normal;font-family:Menlo,'DejaVu Sans Mono',consolas,'Courier New',monospace\">┏━━━━━━━━━━━━━━━━━━━━━┳━━━━━━━━━━━━━━━━━━━┳━━━━━━━━━━━━┳━━━━━━━━━━━━━━━━━━━┓\n",
       "┃<span style=\"font-weight: bold\"> Layer (type)        </span>┃<span style=\"font-weight: bold\"> Output Shape      </span>┃<span style=\"font-weight: bold\">    Param # </span>┃<span style=\"font-weight: bold\"> Connected to      </span>┃\n",
       "┡━━━━━━━━━━━━━━━━━━━━━╇━━━━━━━━━━━━━━━━━━━╇━━━━━━━━━━━━╇━━━━━━━━━━━━━━━━━━━┩\n",
       "│ attention_mask      │ (<span style=\"color: #00d7ff; text-decoration-color: #00d7ff\">None</span>, <span style=\"color: #00af00; text-decoration-color: #00af00\">128</span>)       │          <span style=\"color: #00af00; text-decoration-color: #00af00\">0</span> │ -                 │\n",
       "│ (<span style=\"color: #0087ff; text-decoration-color: #0087ff\">InputLayer</span>)        │                   │            │                   │\n",
       "├─────────────────────┼───────────────────┼────────────┼───────────────────┤\n",
       "│ input_ids           │ (<span style=\"color: #00d7ff; text-decoration-color: #00d7ff\">None</span>, <span style=\"color: #00af00; text-decoration-color: #00af00\">128</span>)       │          <span style=\"color: #00af00; text-decoration-color: #00af00\">0</span> │ -                 │\n",
       "│ (<span style=\"color: #0087ff; text-decoration-color: #0087ff\">InputLayer</span>)        │                   │            │                   │\n",
       "├─────────────────────┼───────────────────┼────────────┼───────────────────┤\n",
       "│ transformer_featur… │ (<span style=\"color: #00d7ff; text-decoration-color: #00d7ff\">None</span>, <span style=\"color: #00af00; text-decoration-color: #00af00\">128</span>, <span style=\"color: #00af00; text-decoration-color: #00af00\">768</span>)  │          <span style=\"color: #00af00; text-decoration-color: #00af00\">0</span> │ attention_mask[<span style=\"color: #00af00; text-decoration-color: #00af00\">0</span>… │\n",
       "│ (<span style=\"color: #0087ff; text-decoration-color: #0087ff\">TransformerFeatur…</span> │                   │            │ input_ids[<span style=\"color: #00af00; text-decoration-color: #00af00\">0</span>][<span style=\"color: #00af00; text-decoration-color: #00af00\">0</span>]   │\n",
       "├─────────────────────┼───────────────────┼────────────┼───────────────────┤\n",
       "│ global_average_poo… │ (<span style=\"color: #00d7ff; text-decoration-color: #00d7ff\">None</span>, <span style=\"color: #00af00; text-decoration-color: #00af00\">768</span>)       │          <span style=\"color: #00af00; text-decoration-color: #00af00\">0</span> │ transformer_feat… │\n",
       "│ (<span style=\"color: #0087ff; text-decoration-color: #0087ff\">GlobalAveragePool…</span> │                   │            │                   │\n",
       "├─────────────────────┼───────────────────┼────────────┼───────────────────┤\n",
       "│ dropout (<span style=\"color: #0087ff; text-decoration-color: #0087ff\">Dropout</span>)   │ (<span style=\"color: #00d7ff; text-decoration-color: #00d7ff\">None</span>, <span style=\"color: #00af00; text-decoration-color: #00af00\">768</span>)       │          <span style=\"color: #00af00; text-decoration-color: #00af00\">0</span> │ global_average_p… │\n",
       "├─────────────────────┼───────────────────┼────────────┼───────────────────┤\n",
       "│ dense (<span style=\"color: #0087ff; text-decoration-color: #0087ff\">Dense</span>)       │ (<span style=\"color: #00d7ff; text-decoration-color: #00d7ff\">None</span>, <span style=\"color: #00af00; text-decoration-color: #00af00\">64</span>)        │     <span style=\"color: #00af00; text-decoration-color: #00af00\">49,216</span> │ dropout[<span style=\"color: #00af00; text-decoration-color: #00af00\">0</span>][<span style=\"color: #00af00; text-decoration-color: #00af00\">0</span>]     │\n",
       "├─────────────────────┼───────────────────┼────────────┼───────────────────┤\n",
       "│ dropout_1 (<span style=\"color: #0087ff; text-decoration-color: #0087ff\">Dropout</span>) │ (<span style=\"color: #00d7ff; text-decoration-color: #00d7ff\">None</span>, <span style=\"color: #00af00; text-decoration-color: #00af00\">64</span>)        │          <span style=\"color: #00af00; text-decoration-color: #00af00\">0</span> │ dense[<span style=\"color: #00af00; text-decoration-color: #00af00\">0</span>][<span style=\"color: #00af00; text-decoration-color: #00af00\">0</span>]       │\n",
       "├─────────────────────┼───────────────────┼────────────┼───────────────────┤\n",
       "│ classification      │ (<span style=\"color: #00d7ff; text-decoration-color: #00d7ff\">None</span>, <span style=\"color: #00af00; text-decoration-color: #00af00\">1</span>)         │         <span style=\"color: #00af00; text-decoration-color: #00af00\">65</span> │ dropout_1[<span style=\"color: #00af00; text-decoration-color: #00af00\">0</span>][<span style=\"color: #00af00; text-decoration-color: #00af00\">0</span>]   │\n",
       "│ (<span style=\"color: #0087ff; text-decoration-color: #0087ff\">Dense</span>)             │                   │            │                   │\n",
       "└─────────────────────┴───────────────────┴────────────┴───────────────────┘\n",
       "</pre>\n"
      ],
      "text/plain": [
       "┏━━━━━━━━━━━━━━━━━━━━━┳━━━━━━━━━━━━━━━━━━━┳━━━━━━━━━━━━┳━━━━━━━━━━━━━━━━━━━┓\n",
       "┃\u001b[1m \u001b[0m\u001b[1mLayer (type)       \u001b[0m\u001b[1m \u001b[0m┃\u001b[1m \u001b[0m\u001b[1mOutput Shape     \u001b[0m\u001b[1m \u001b[0m┃\u001b[1m \u001b[0m\u001b[1m   Param #\u001b[0m\u001b[1m \u001b[0m┃\u001b[1m \u001b[0m\u001b[1mConnected to     \u001b[0m\u001b[1m \u001b[0m┃\n",
       "┡━━━━━━━━━━━━━━━━━━━━━╇━━━━━━━━━━━━━━━━━━━╇━━━━━━━━━━━━╇━━━━━━━━━━━━━━━━━━━┩\n",
       "│ attention_mask      │ (\u001b[38;5;45mNone\u001b[0m, \u001b[38;5;34m128\u001b[0m)       │          \u001b[38;5;34m0\u001b[0m │ -                 │\n",
       "│ (\u001b[38;5;33mInputLayer\u001b[0m)        │                   │            │                   │\n",
       "├─────────────────────┼───────────────────┼────────────┼───────────────────┤\n",
       "│ input_ids           │ (\u001b[38;5;45mNone\u001b[0m, \u001b[38;5;34m128\u001b[0m)       │          \u001b[38;5;34m0\u001b[0m │ -                 │\n",
       "│ (\u001b[38;5;33mInputLayer\u001b[0m)        │                   │            │                   │\n",
       "├─────────────────────┼───────────────────┼────────────┼───────────────────┤\n",
       "│ transformer_featur… │ (\u001b[38;5;45mNone\u001b[0m, \u001b[38;5;34m128\u001b[0m, \u001b[38;5;34m768\u001b[0m)  │          \u001b[38;5;34m0\u001b[0m │ attention_mask[\u001b[38;5;34m0\u001b[0m… │\n",
       "│ (\u001b[38;5;33mTransformerFeatur…\u001b[0m │                   │            │ input_ids[\u001b[38;5;34m0\u001b[0m][\u001b[38;5;34m0\u001b[0m]   │\n",
       "├─────────────────────┼───────────────────┼────────────┼───────────────────┤\n",
       "│ global_average_poo… │ (\u001b[38;5;45mNone\u001b[0m, \u001b[38;5;34m768\u001b[0m)       │          \u001b[38;5;34m0\u001b[0m │ transformer_feat… │\n",
       "│ (\u001b[38;5;33mGlobalAveragePool…\u001b[0m │                   │            │                   │\n",
       "├─────────────────────┼───────────────────┼────────────┼───────────────────┤\n",
       "│ dropout (\u001b[38;5;33mDropout\u001b[0m)   │ (\u001b[38;5;45mNone\u001b[0m, \u001b[38;5;34m768\u001b[0m)       │          \u001b[38;5;34m0\u001b[0m │ global_average_p… │\n",
       "├─────────────────────┼───────────────────┼────────────┼───────────────────┤\n",
       "│ dense (\u001b[38;5;33mDense\u001b[0m)       │ (\u001b[38;5;45mNone\u001b[0m, \u001b[38;5;34m64\u001b[0m)        │     \u001b[38;5;34m49,216\u001b[0m │ dropout[\u001b[38;5;34m0\u001b[0m][\u001b[38;5;34m0\u001b[0m]     │\n",
       "├─────────────────────┼───────────────────┼────────────┼───────────────────┤\n",
       "│ dropout_1 (\u001b[38;5;33mDropout\u001b[0m) │ (\u001b[38;5;45mNone\u001b[0m, \u001b[38;5;34m64\u001b[0m)        │          \u001b[38;5;34m0\u001b[0m │ dense[\u001b[38;5;34m0\u001b[0m][\u001b[38;5;34m0\u001b[0m]       │\n",
       "├─────────────────────┼───────────────────┼────────────┼───────────────────┤\n",
       "│ classification      │ (\u001b[38;5;45mNone\u001b[0m, \u001b[38;5;34m1\u001b[0m)         │         \u001b[38;5;34m65\u001b[0m │ dropout_1[\u001b[38;5;34m0\u001b[0m][\u001b[38;5;34m0\u001b[0m]   │\n",
       "│ (\u001b[38;5;33mDense\u001b[0m)             │                   │            │                   │\n",
       "└─────────────────────┴───────────────────┴────────────┴───────────────────┘\n"
      ]
     },
     "metadata": {},
     "output_type": "display_data"
    },
    {
     "data": {
      "text/html": [
       "<pre style=\"white-space:pre;overflow-x:auto;line-height:normal;font-family:Menlo,'DejaVu Sans Mono',consolas,'Courier New',monospace\"><span style=\"font-weight: bold\"> Total params: </span><span style=\"color: #00af00; text-decoration-color: #00af00\">49,281</span> (192.50 KB)\n",
       "</pre>\n"
      ],
      "text/plain": [
       "\u001b[1m Total params: \u001b[0m\u001b[38;5;34m49,281\u001b[0m (192.50 KB)\n"
      ]
     },
     "metadata": {},
     "output_type": "display_data"
    },
    {
     "data": {
      "text/html": [
       "<pre style=\"white-space:pre;overflow-x:auto;line-height:normal;font-family:Menlo,'DejaVu Sans Mono',consolas,'Courier New',monospace\"><span style=\"font-weight: bold\"> Trainable params: </span><span style=\"color: #00af00; text-decoration-color: #00af00\">49,281</span> (192.50 KB)\n",
       "</pre>\n"
      ],
      "text/plain": [
       "\u001b[1m Trainable params: \u001b[0m\u001b[38;5;34m49,281\u001b[0m (192.50 KB)\n"
      ]
     },
     "metadata": {},
     "output_type": "display_data"
    },
    {
     "data": {
      "text/html": [
       "<pre style=\"white-space:pre;overflow-x:auto;line-height:normal;font-family:Menlo,'DejaVu Sans Mono',consolas,'Courier New',monospace\"><span style=\"font-weight: bold\"> Non-trainable params: </span><span style=\"color: #00af00; text-decoration-color: #00af00\">0</span> (0.00 B)\n",
       "</pre>\n"
      ],
      "text/plain": [
       "\u001b[1m Non-trainable params: \u001b[0m\u001b[38;5;34m0\u001b[0m (0.00 B)\n"
      ]
     },
     "metadata": {},
     "output_type": "display_data"
    }
   ],
   "source": [
    "# 2: DEFINING THE DISTILBERT MODEL\n",
    "print(\"\\n Defining Tokenizer and DistilBERT Model\")\n",
    "\n",
    "# Model Parameters\n",
    "MAX_LEN = 128  # Larger length can  capture more context\n",
    "MODEL_NAME = 'distilbert-base-uncased'\n",
    "\n",
    "# 2.1 Load DistilBERT Tokenizer\n",
    "distilbert_tokenizer = DistilBertTokenizer.from_pretrained(MODEL_NAME)\n",
    "\n",
    "def tokenize(X):\n",
    "\n",
    "    return distilbert_tokenizer(\n",
    "        text=list(X), add_special_tokens=True, max_length=MAX_LEN,\n",
    "        truncation=True, padding='max_length', return_tensors='tf',\n",
    "        return_attention_mask=True, verbose=True\n",
    "    )\n",
    "\n",
    "# Custom Keras Layer to wrap the transformer model\n",
    "class TransformerFeatureExtractor(Layer):\n",
    "    def __init__(self, transformer_model, **kwargs):\n",
    "        super(TransformerFeatureExtractor, self).__init__(**kwargs)\n",
    "        self.transformer = transformer_model\n",
    "\n",
    "    def call(self, inputs):\n",
    "        # We only need the last hidden state from the base model\n",
    "        return self.transformer(inputs).last_hidden_state\n",
    "\n",
    "# 2.2 Define the DistilBERT Model Architecture\n",
    "def create_distilbert_model(transformer_model, max_len=MAX_LEN):\n",
    "\n",
    "    # Freeze the pre-trained DistilBERT layers\n",
    "    transformer_model.trainable = False\n",
    "\n",
    "    # Define the input layers\n",
    "    input_ids = Input(shape=(max_len,), dtype=tf.int32, name=\"input_ids\")\n",
    "    attention_mask = Input(shape=(max_len,), dtype=tf.int32, name=\"attention_mask\")\n",
    "\n",
    "    # Get the feature embeddings from the base model\n",
    "    feature_extractor = TransformerFeatureExtractor(transformer_model)\n",
    "    bert_output = feature_extractor({'input_ids': input_ids, 'attention_mask': attention_mask})\n",
    "\n",
    "    # Use Global Average Pooling to create a single vector representation\n",
    "    pooled_output = GlobalAveragePooling1D()(bert_output)\n",
    "\n",
    "    # Add regularization and classification layers\n",
    "    x = Dropout(0.4)(pooled_output)\n",
    "    x = Dense(64, activation=\"relu\")(x)\n",
    "    x = Dropout(0.4)(x)\n",
    "    output = Dense(1, activation=\"sigmoid\", name=\"classification\")(x)\n",
    "\n",
    "    # Create and return the final model\n",
    "    model = Model(inputs=[input_ids, attention_mask], outputs=output)\n",
    "    return model\n",
    "\n",
    "# Instantiate the pre-trained DistilBERT model\n",
    "distilbert_base_model = TFDistilBertModel.from_pretrained(MODEL_NAME, from_pt=True)\n",
    "\n",
    "# Create the full classification model\n",
    "model = create_distilbert_model(distilbert_base_model, max_len=MAX_LEN)\n",
    "\n",
    "print(\"\\nDistilBERT Model Architecture:\")\n",
    "model.summary()"
   ]
  },
  {
   "cell_type": "code",
   "execution_count": null,
   "metadata": {
    "colab": {
     "base_uri": "https://localhost:8080/"
    },
    "executionInfo": {
     "elapsed": 1816965,
     "status": "ok",
     "timestamp": 1758348091124,
     "user": {
      "displayName": "Artemis Papaspyrou",
      "userId": "18188189575963929921"
     },
     "user_tz": -180
    },
    "id": "laEX5LH_x4Xv",
    "outputId": "e5443be3-f922-4213-f809-82f050a55943"
   },
   "outputs": [
    {
     "name": "stderr",
     "output_type": "stream",
     "text": [
      "TensorFlow and JAX classes are deprecated and will be removed in Transformers v5. We recommend migrating to PyTorch classes or pinning your version of Transformers.\n"
     ]
    },
    {
     "name": "stdout",
     "output_type": "stream",
     "text": [
      "\n",
      " Training the Model\n",
      "Tokenizing data...\n",
      "\n",
      "Starting model training...\n",
      "Epoch 1/8\n",
      "\u001b[1m1123/1123\u001b[0m \u001b[32m━━━━━━━━━━━━━━━━━━━━\u001b[0m\u001b[37m\u001b[0m \u001b[1m165s\u001b[0m 137ms/step - accuracy: 0.6504 - loss: 0.6248 - val_accuracy: 0.9114 - val_loss: 0.3441 - learning_rate: 2.0000e-05\n",
      "Epoch 2/8\n",
      "\u001b[1m1123/1123\u001b[0m \u001b[32m━━━━━━━━━━━━━━━━━━━━\u001b[0m\u001b[37m\u001b[0m \u001b[1m197s\u001b[0m 137ms/step - accuracy: 0.8780 - loss: 0.3533 - val_accuracy: 0.9218 - val_loss: 0.2380 - learning_rate: 2.0000e-05\n",
      "Epoch 3/8\n",
      "\u001b[1m1123/1123\u001b[0m \u001b[32m━━━━━━━━━━━━━━━━━━━━\u001b[0m\u001b[37m\u001b[0m \u001b[1m152s\u001b[0m 136ms/step - accuracy: 0.8995 - loss: 0.2747 - val_accuracy: 0.9263 - val_loss: 0.2028 - learning_rate: 2.0000e-05\n",
      "Epoch 4/8\n",
      "\u001b[1m1123/1123\u001b[0m \u001b[32m━━━━━━━━━━━━━━━━━━━━\u001b[0m\u001b[37m\u001b[0m \u001b[1m156s\u001b[0m 139ms/step - accuracy: 0.9090 - loss: 0.2406 - val_accuracy: 0.9314 - val_loss: 0.1847 - learning_rate: 2.0000e-05\n",
      "Epoch 5/8\n",
      "\u001b[1m1123/1123\u001b[0m \u001b[32m━━━━━━━━━━━━━━━━━━━━\u001b[0m\u001b[37m\u001b[0m \u001b[1m153s\u001b[0m 136ms/step - accuracy: 0.9130 - loss: 0.2296 - val_accuracy: 0.9354 - val_loss: 0.1732 - learning_rate: 2.0000e-05\n",
      "Epoch 6/8\n",
      "\u001b[1m1123/1123\u001b[0m \u001b[32m━━━━━━━━━━━━━━━━━━━━\u001b[0m\u001b[37m\u001b[0m \u001b[1m201s\u001b[0m 135ms/step - accuracy: 0.9173 - loss: 0.2148 - val_accuracy: 0.9383 - val_loss: 0.1652 - learning_rate: 2.0000e-05\n",
      "Epoch 7/8\n",
      "\u001b[1m1123/1123\u001b[0m \u001b[32m━━━━━━━━━━━━━━━━━━━━\u001b[0m\u001b[37m\u001b[0m \u001b[1m205s\u001b[0m 138ms/step - accuracy: 0.9246 - loss: 0.2045 - val_accuracy: 0.9403 - val_loss: 0.1589 - learning_rate: 2.0000e-05\n",
      "Epoch 8/8\n",
      "\u001b[1m1123/1123\u001b[0m \u001b[32m━━━━━━━━━━━━━━━━━━━━\u001b[0m\u001b[37m\u001b[0m \u001b[1m199s\u001b[0m 135ms/step - accuracy: 0.9198 - loss: 0.2020 - val_accuracy: 0.9428 - val_loss: 0.1533 - learning_rate: 2.0000e-05\n",
      "Restoring model weights from the end of the best epoch: 8.\n"
     ]
    }
   ],
   "source": [
    "# 3: TRAINING THE MODEL\n",
    "print(\"\\n Training the Model\")\n",
    "\n",
    "# Tokenize all data splits\n",
    "print(\"Tokenizing data...\")\n",
    "X_train_token = tokenize(X_train)\n",
    "X_val_token = tokenize(X_val)\n",
    "X_test_token = tokenize(X_test)\n",
    "\n",
    "# Define a robust optimizer and callbacks for better training\n",
    "optimizer = Adam(learning_rate=2e-5, epsilon=1e-08)\n",
    "early_stopping = EarlyStopping(monitor='val_loss', patience=2, restore_best_weights=True, verbose=1)\n",
    "reduce_lr = ReduceLROnPlateau(monitor='val_loss', factor=0.2, patience=1, verbose=1, min_lr=1e-7)\n",
    "\n",
    "# Compile the model\n",
    "model.compile(\n",
    "    optimizer=optimizer,\n",
    "    loss='binary_crossentropy',\n",
    "    metrics=['accuracy']\n",
    ")\n",
    "\n",
    "# Train the model using the training and validation sets\n",
    "print(\"\\nStarting model training...\")\n",
    "history = model.fit(\n",
    "    x={'input_ids': X_train_token['input_ids'], 'attention_mask': X_train_token['attention_mask']},\n",
    "    y=Y_train,\n",
    "    validation_data=(\n",
    "        {'input_ids': X_val_token['input_ids'], 'attention_mask': X_val_token['attention_mask']},\n",
    "        Y_val\n",
    "    ),\n",
    "    epochs=8,\n",
    "    batch_size=32,\n",
    "    callbacks=[early_stopping, reduce_lr]\n",
    ")\n"
   ]
  },
  {
   "cell_type": "code",
   "execution_count": null,
   "metadata": {
    "colab": {
     "base_uri": "https://localhost:8080/",
     "height": 1000
    },
    "executionInfo": {
     "elapsed": 22239,
     "status": "ok",
     "timestamp": 1758348113357,
     "user": {
      "displayName": "Artemis Papaspyrou",
      "userId": "18188189575963929921"
     },
     "user_tz": -180
    },
    "id": "3dWr_0QIx8XQ",
    "outputId": "237cdd40-1e3e-4942-97aa-1794d0e29d4d"
   },
   "outputs": [
    {
     "name": "stdout",
     "output_type": "stream",
     "text": [
      "\n",
      " Evaluating the Model\n",
      "Plotting model training history\n"
     ]
    },
    {
     "data": {
      "image/png": "[encoded data removed]",
      "text/plain": [
       "<Figure size 1200x500 with 2 Axes>"
      ]
     },
     "metadata": {},
     "output_type": "display_data"
    },
    {
     "name": "stdout",
     "output_type": "stream",
     "text": [
      "\n",
      "Making predictions on the held-out test set...\n",
      "\u001b[1m141/141\u001b[0m \u001b[32m━━━━━━━━━━━━━━━━━━━━\u001b[0m\u001b[37m\u001b[0m \u001b[1m22s\u001b[0m 136ms/step\n",
      "\n",
      "Classification Report on Test Set:\n",
      "              precision    recall  f1-score   support\n",
      "\n",
      "    Real (0)       0.94      0.93      0.94      2142\n",
      "    Fake (1)       0.94      0.94      0.94      2348\n",
      "\n",
      "    accuracy                           0.94      4490\n",
      "   macro avg       0.94      0.94      0.94      4490\n",
      "weighted avg       0.94      0.94      0.94      4490\n",
      "\n",
      "\n",
      "Confusion Matrix:\n"
     ]
    },
    {
     "data": {
      "image/png": "[encoded data removed]",
      "text/plain": [
       "<Figure size 640x480 with 2 Axes>"
      ]
     },
     "metadata": {},
     "output_type": "display_data"
    }
   ],
   "source": [
    "# 4: EVALUATING THE MODEL\n",
    "print(\"\\n Evaluating the Model\")\n",
    "\n",
    "# 4.1 Plot training history\n",
    "print(\"Plotting model training history\")\n",
    "plt.figure(figsize=(12, 5))\n",
    "plt.subplot(1, 2, 1)\n",
    "plt.plot(history.history['loss'], label='Training Loss')\n",
    "plt.plot(history.history['val_loss'], label='Validation Loss')\n",
    "plt.title('Loss vs. Epochs')\n",
    "plt.xlabel('Epochs')\n",
    "plt.ylabel('Loss')\n",
    "plt.legend()\n",
    "plt.grid(True)\n",
    "\n",
    "plt.subplot(1, 2, 2)\n",
    "plt.plot(history.history['accuracy'], label='Training Accuracy')\n",
    "plt.plot(history.history['val_accuracy'], label='Validation Accuracy')\n",
    "plt.title('Accuracy vs. Epochs')\n",
    "plt.xlabel('Epochs')\n",
    "plt.ylabel('Accuracy')\n",
    "plt.legend()\n",
    "plt.grid(True)\n",
    "plt.tight_layout()\n",
    "plt.show()\n",
    "\n",
    "# 4.2 Make predictions on the unseen test set\n",
    "print(\"\\nMaking predictions on the held-out test set...\")\n",
    "predicted_probabilities = model.predict({\n",
    "    'input_ids': X_test_token['input_ids'],\n",
    "    'attention_mask': X_test_token['attention_mask']\n",
    "})\n",
    "binary_predictions = (predicted_probabilities > 0.5).astype(int)\n",
    "\n",
    "# 4.3 Generate Classification Report and Confusion Matrix\n",
    "print(\"\\nClassification Report on Test Set:\")\n",
    "print(classification_report(Y_test, binary_predictions, target_names=['Real (0)', 'Fake (1)']))\n",
    "\n",
    "print(\"\\nConfusion Matrix:\")\n",
    "cm = confusion_matrix(Y_test, binary_predictions)\n",
    "sns.heatmap(cm, annot=True, fmt='d', cmap='Blues', xticklabels=['Real', 'Fake'], yticklabels=['Real', 'Fake'])\n",
    "plt.xlabel(\"Predicted Label\")\n",
    "plt.ylabel(\"True Label\")\n",
    "plt.show()"
   ]
  },
  {
   "cell_type": "code",
   "execution_count": null,
   "metadata": {
    "colab": {
     "base_uri": "https://localhost:8080/"
    },
    "executionInfo": {
     "elapsed": 11174,
     "status": "ok",
     "timestamp": 1758348665982,
     "user": {
      "displayName": "Artemis Papaspyrou",
      "userId": "18188189575963929921"
     },
     "user_tz": -180
    },
    "id": "Jsii00ekp8mU",
    "outputId": "8a431536-bee7-4884-d647-3a808e522fda"
   },
   "outputs": [
    {
     "name": "stdout",
     "output_type": "stream",
     "text": [
      "Mounted at /content/drive\n",
      "\n",
      "Artifacts will be saved to: /content/drive/MyDrive/fake_news_models_distil/Latest_DistilBert\n",
      " Model weights saved successfully to: /content/drive/MyDrive/fake_news_models_distil/Latest_DistilBert/model.weights.h5\n",
      " Tokenizer saved successfully to: /content/drive/MyDrive/fake_news_models_distil/Latest_DistilBert/tokenizer\n",
      " Model configuration saved successfully to: /content/drive/MyDrive/fake_news_models_distil/Latest_DistilBert/config.json\n",
      "\n",
      " All artifacts saved\n"
     ]
    }
   ],
   "source": [
    "# 5: SAVING THE MODEL\n",
    "import json\n",
    "from pathlib import Path\n",
    "from google.colab import drive\n",
    "\n",
    "# Mount Google Drive\n",
    "drive.mount('/content/drive', force_remount=True)\n",
    "\n",
    "# Define a unique output directory for this model\n",
    "output_dir = Path(\"/content/drive/MyDrive/fake_news_models_distil/Latest_DistilBert\")\n",
    "output_dir.mkdir(parents=True, exist_ok=True)\n",
    "print(f\"\\nArtifacts will be saved to: {output_dir}\")\n",
    "\n",
    "# Save the model weights\n",
    "weights_path = output_dir / \"model.weights.h5\"\n",
    "model.save_weights(str(weights_path))\n",
    "print(f\" Model weights saved successfully to: {weights_path}\")\n",
    "\n",
    "# Save the tokenizer\n",
    "tokenizer_path = output_dir / \"tokenizer\"\n",
    "distilbert_tokenizer.save_pretrained(str(tokenizer_path))\n",
    "print(f\" Tokenizer saved successfully to: {tokenizer_path}\")\n",
    "\n",
    "# Save the configuration file\n",
    "config = {\n",
    "    \"model_name\": MODEL_NAME,\n",
    "    \"max_len\": MAX_LEN,\n",
    "    \"threshold\": 0.5\n",
    "}\n",
    "config_path = output_dir / \"config.json\"\n",
    "with open(config_path, 'w') as f:\n",
    "    json.dump(config, f, indent=4)\n",
    "print(f\" Model configuration saved successfully to: {config_path}\")\n",
    "\n",
    "print(\"\\n All artifacts saved\")"
   ]
  },
  {
   "cell_type": "code",
   "execution_count": null,
   "metadata": {
    "colab": {
     "base_uri": "https://localhost:8080/"
    },
    "executionInfo": {
     "elapsed": 4592,
     "status": "ok",
     "timestamp": 1758055792276,
     "user": {
      "displayName": "Artemis Papaspyrou",
      "userId": "18188189575963929921"
     },
     "user_tz": -180
    },
    "id": "niNYbSjaqHm1",
    "outputId": "fadb7cec-a248-41f1-c6e4-1885eeb439a3"
   },
   "outputs": [
    {
     "name": "stdout",
     "output_type": "stream",
     "text": [
      "\n",
      "--- Section 6: Loading and Testing the Saved Model ---\n",
      " Model configuration loaded successfully.\n",
      " Tokenizer loaded successfully.\n"
     ]
    },
    {
     "name": "stderr",
     "output_type": "stream",
     "text": [
      "Some weights of the PyTorch model were not used when initializing the TF 2.0 model TFDistilBertModel: ['vocab_layer_norm.bias', 'vocab_projector.weight', 'vocab_transform.bias', 'vocab_projector.bias', 'vocab_layer_norm.weight', 'vocab_transform.weight']\n",
      "- This IS expected if you are initializing TFDistilBertModel from a PyTorch model trained on another task or with another architecture (e.g. initializing a TFBertForSequenceClassification model from a BertForPreTraining model).\n",
      "- This IS NOT expected if you are initializing TFDistilBertModel from a PyTorch model that you expect to be exactly identical (e.g. initializing a TFBertForSequenceClassification model from a BertForSequenceClassification model).\n",
      "All the weights of TFDistilBertModel were initialized from the PyTorch model.\n",
      "If your task is similar to the task the model of the checkpoint was trained on, you can already use TFDistilBertModel for predictions without further training.\n"
     ]
    },
    {
     "name": "stdout",
     "output_type": "stream",
     "text": [
      " Model architecture rebuilt successfully.\n",
      " Model weights loaded successfully.\n",
      "\n",
      "--- Quick Demonstration ---\n",
      "\u001b[1m1/1\u001b[0m \u001b[32m━━━━━━━━━━━━━━━━━━━━\u001b[0m\u001b[37m\u001b[0m \u001b[1m2s\u001b[0m 2s/step\n",
      "\n",
      "Text: \"Washington D.C. - Lawmakers reached a bipartisan agreement o...\"\n",
      "  -> Probability (Fake): 0.0039 | Prediction: REAL\n",
      "\n",
      "Text: \"You won't believe what they found on Mars! A secret governme...\"\n",
      "  -> Probability (Fake): 0.9804 | Prediction: FAKE\n"
     ]
    }
   ],
   "source": [
    "#  6: LOADING AND TESTING THE SAVED MODEL\n",
    "import json\n",
    "from pathlib import Path\n",
    "from transformers import AutoTokenizer, TFDistilBertModel\n",
    "from tensorflow.keras.layers import Input, Dense, Dropout, GlobalAveragePooling1D, Layer\n",
    "from tensorflow.keras.models import Model\n",
    "import tensorflow as tf\n",
    "\n",
    "print(\"\\n 6: Loading and Testing the Saved Model ---\")\n",
    "\n",
    "# Define the path where your model was saved\n",
    "ARTIFACTS_DIR = Path(\"/content/drive/MyDrive/fake_news_models_distil/Latest_DistilBert\")\n",
    "\n",
    "# 1) Load Model Configuration\n",
    "config_path = ARTIFACTS_DIR / \"config.json\"\n",
    "config = json.loads(config_path.read_text())\n",
    "model_name_loaded = config[\"model_name\"]\n",
    "max_len_loaded = int(config[\"max_len\"])\n",
    "threshold_loaded = float(config[\"threshold\"])\n",
    "print(\" Model configuration loaded successfully.\")\n",
    "\n",
    "# 2) Load the Tokenizer\n",
    "tokenizer_dir = ARTIFACTS_DIR / \"tokenizer\"\n",
    "tokenizer_loaded = AutoTokenizer.from_pretrained(str(tokenizer_dir))\n",
    "print(\" Tokenizer loaded successfully.\")\n",
    "\n",
    "# 3) Rebuild the EXACT SAME Model Architecture\n",
    "def build_reloaded_distilbert_model(model_name, max_len):\n",
    "    # The custom layer must be redefined to be recognized by Keras\n",
    "    class TransformerFeatureExtractor(Layer):\n",
    "        def __init__(self, transformer_model, **kwargs):\n",
    "            super(TransformerFeatureExtractor, self).__init__(**kwargs)\n",
    "            self.transformer = transformer_model\n",
    "        def call(self, inputs):\n",
    "            return self.transformer(inputs).last_hidden_state\n",
    "\n",
    "    base_model = TFDistilBertModel.from_pretrained(model_name, from_pt=True)\n",
    "    base_model.trainable = False\n",
    "    input_ids = Input(shape=(max_len,), dtype=tf.int32, name=\"input_ids\")\n",
    "    attention_mask = Input(shape=(max_len,), dtype=tf.int32, name=\"attention_mask\")\n",
    "    feature_extractor = TransformerFeatureExtractor(base_model)\n",
    "    bert_output = feature_extractor({'input_ids': input_ids, 'attention_mask': attention_mask})\n",
    "    pooled_output = GlobalAveragePooling1D()(bert_output)\n",
    "    x = Dropout(0.4)(pooled_output)\n",
    "    x = Dense(64, activation=\"relu\")(x)\n",
    "    x = Dropout(0.4)(x)\n",
    "    output = Dense(1, activation=\"sigmoid\", name=\"classification\")(x)\n",
    "    reloaded_model = Model(inputs=[input_ids, attention_mask], outputs=output)\n",
    "    return reloaded_model\n",
    "\n",
    "# Instantiate the empty model structure\n",
    "reloaded_model = build_reloaded_distilbert_model(model_name_loaded, max_len_loaded)\n",
    "print(\" Model architecture rebuilt successfully.\")\n",
    "\n",
    "# 4) Load the Saved Weights\n",
    "# The filename has been updated to match what was saved.\n",
    "weights_path = ARTIFACTS_DIR / \"model.weights.h5\"\n",
    "reloaded_model.load_weights(str(weights_path))\n",
    "print(\" Model weights loaded successfully.\")\n",
    "\n",
    "# 5) Quick Sanity Check\n",
    "print(\"\\n--- Quick Demonstration ---\")\n",
    "demo_texts = [\n",
    "    \"Washington D.C. - Lawmakers reached a bipartisan agreement on the new budget late Tuesday evening, officials say.\",\n",
    "    \"You won't believe what they found on Mars! A secret government source revealed aliens are already here.\"\n",
    "]\n",
    "encoded_texts = tokenizer_loaded(demo_texts, truncation=True, padding=\"max_length\", max_length=max_len_loaded, return_tensors=\"tf\")\n",
    "probabilities = reloaded_model.predict(dict(encoded_texts)).flatten()\n",
    "predictions = (probabilities >= threshold_loaded).astype(int)\n",
    "\n",
    "for text, prob, pred in zip(demo_texts, probabilities, predictions):\n",
    "    label = \"FAKE\" if pred == 1 else \"REAL\"\n",
    "    print(f\"\\nText: \\\"{text[:60]}...\\\"\")\n",
    "    print(f\"  -> Probability (Fake): {prob:.4f} | Prediction: {label}\")"
   ]
  },
  {
   "cell_type": "code",
   "execution_count": null,
   "metadata": {
    "colab": {
     "base_uri": "https://localhost:8080/",
     "height": 678
    },
    "id": "SgnVat5-yDk-",
    "outputId": "3da1b514-0cb3-4b89-a720-b7d2610e814e"
   },
   "outputs": [
    {
     "name": "stdout",
     "output_type": "stream",
     "text": [
      "\n",
      "--- Section 6: Building the Gradio Web Interface ---\n",
      "It looks like you are running Gradio on a hosted Jupyter notebook, which requires `share=True`. Automatically setting `share=True` (you can turn this off by setting `share=False` in `launch()` explicitly).\n",
      "\n",
      "Colab notebook detected. This cell will run indefinitely so that you can see errors and logs. To turn off, set debug=False in launch().\n",
      "* Running on public URL: https://8fbdbbe978d177bd8d.gradio.live\n",
      "\n",
      "This share link expires in 1 week. For free permanent hosting and GPU upgrades, run `gradio deploy` from the terminal in the working directory to deploy to Hugging Face Spaces (https://huggingface.co/spaces)\n"
     ]
    },
    {
     "data": {
      "text/html": [
       "<div><iframe src=\"https://8fbdbbe978d177bd8d.gradio.live\" width=\"100%\" height=\"500\" allow=\"autoplay; camera; microphone; clipboard-read; clipboard-write;\" frameborder=\"0\" allowfullscreen></iframe></div>"
      ],
      "text/plain": [
       "<IPython.core.display.HTML object>"
      ]
     },
     "metadata": {},
     "output_type": "display_data"
    },
    {
     "name": "stdout",
     "output_type": "stream",
     "text": [
      "\u001b[1m1/1\u001b[0m \u001b[32m━━━━━━━━━━━━━━━━━━━━\u001b[0m\u001b[37m\u001b[0m \u001b[1m4s\u001b[0m 4s/step\n"
     ]
    }
   ],
   "source": [
    "# 7: DEPLOYING WITH GRADIO\n",
    "print(\"\\n--- Section 6: Building the Gradio Web Interface ---\")\n",
    "!pip install gradio -q\n",
    "import gradio as gr\n",
    "\n",
    "# The model and tokenizer are already loaded and verified from the previous section.\n",
    "# We will use 'reloaded_model' and 'tokenizer_loaded'.\n",
    "\n",
    "# STEP 1: DEFINE PREDICTION AND CLEANING FUNCTIONS\n",
    "def predict_fake_news(text):\n",
    "    \"\"\"\n",
    "    Cleans the input text, tokenizes it, and uses the loaded model to predict\n",
    "    if the news is REAL or FAKE.\n",
    "    \"\"\"\n",
    "    # Clean the input text\n",
    "    cleaned_text = clean_text(text)\n",
    "\n",
    "    # Tokenize the cleaned text using the loaded tokenizer\n",
    "    inputs = tokenizer_loaded(\n",
    "        text=cleaned_text,\n",
    "        add_special_tokens=True,\n",
    "        max_length=max_len_loaded,  # Use the max_len from the loaded config\n",
    "        truncation=True,\n",
    "        padding='max_length',\n",
    "        return_tensors='tf'\n",
    "    )\n",
    "\n",
    "    # Make a prediction using the reloaded model\n",
    "    prediction_score = reloaded_model.predict({\n",
    "        'input_ids': inputs['input_ids'],\n",
    "        'attention_mask': inputs['attention_mask']\n",
    "    })[0][0]\n",
    "\n",
    "    # Calculate probabilities for both labels\n",
    "    fake_prob = float(prediction_score)\n",
    "    real_prob = 1 - fake_prob\n",
    "\n",
    "    # Return the result in the format Gradio expects for a Label output\n",
    "    return {'FAKE': fake_prob, 'REAL': real_prob}\n",
    "\n",
    "# STEP 2: LAUNCH THE GRADIO INTERFACE\n",
    "# Define some example articles for the user to try\n",
    "examples = [\n",
    "    [\"BREAKING: A source close to the White House claims the president is secretly a lizard person. The evidence is undeniable, experts say.\"],\n",
    "    [\"The S&P 500 closed up 0.5% on Tuesday after the Federal Reserve announced it would hold interest rates steady, citing stable inflation figures.\"],\n",
    "    [\"You will be SHOCKED to learn about this one weird trick to lose weight. Doctors don't want you to know this simple secret.\"]\n",
    "]\n",
    "\n",
    "# Create the Gradio interface\n",
    "interface = gr.Interface(\n",
    "    fn=predict_fake_news,\n",
    "    inputs=gr.Textbox(lines=8, placeholder=\"Paste a news article, headline, or text snippet here...\"),\n",
    "    outputs=gr.Label(num_top_classes=2, label=\"Verdict\"),\n",
    "    title=\"DistilBERT Fake News Detector\",\n",
    "    description=\"This interface uses a fine-tuned DistilBERT model to classify text as REAL or FAKE. Paste an article below and see the model's prediction.\",\n",
    "    examples=examples\n",
    ")\n",
    "\n",
    "# Launch the interface\n",
    "interface.launch(debug=True)"
   ]
  }
 ],
 "metadata": {
  "accelerator": "GPU",
  "colab": {
   "gpuType": "T4",
   "provenance": []
  },
  "kernelspec": {
   "display_name": "Python 3",
   "name": "python3"
  },
  "language_info": {
   "name": "python"
  }
 },
 "nbformat": 4,
 "nbformat_minor": 0
}
